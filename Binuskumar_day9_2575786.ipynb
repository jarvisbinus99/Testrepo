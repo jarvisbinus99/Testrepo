{
 "cells": [
  {
   "cell_type": "markdown",
   "id": "3053c756",
   "metadata": {},
   "source": [
    "# 1.create a 3X3 array with random values."
   ]
  },
  {
   "cell_type": "code",
   "execution_count": 11,
   "id": "eb243039",
   "metadata": {},
   "outputs": [
    {
     "name": "stdout",
     "output_type": "stream",
     "text": [
      "[[0.23855392 0.84538838 0.59466363]\n",
      " [0.31794013 0.06993865 0.81460279]\n",
      " [0.6023106  0.14243432 0.86027903]]\n"
     ]
    }
   ],
   "source": [
    "import numpy as np\n",
    "random_array = np.random.rand(3, 3)\n",
    "print(random_array)\n"
   ]
  },
  {
   "cell_type": "markdown",
   "id": "e8165f37",
   "metadata": {},
   "source": [
    "# 2.create a 5X5 matrix with values 1,2,3,4 just below the diagonal"
   ]
  },
  {
   "cell_type": "code",
   "execution_count": 12,
   "id": "00e71355",
   "metadata": {},
   "outputs": [
    {
     "name": "stdout",
     "output_type": "stream",
     "text": [
      "[[0. 0. 0. 0. 0.]\n",
      " [1. 0. 0. 0. 0.]\n",
      " [0. 2. 0. 0. 0.]\n",
      " [0. 0. 3. 0. 0.]\n",
      " [0. 0. 0. 4. 0.]]\n"
     ]
    }
   ],
   "source": [
    "array = np.zeros((5, 5))\n",
    "np.fill_diagonal(array[1:], [1, 2, 3, 4])\n",
    "print(array)\n"
   ]
  },
  {
   "cell_type": "markdown",
   "id": "11af6fad",
   "metadata": {},
   "source": [
    "# 3.create a 8X8 matrix and fill it wth the checkerboard pattern."
   ]
  },
  {
   "cell_type": "code",
   "execution_count": 13,
   "id": "c70e498e",
   "metadata": {},
   "outputs": [
    {
     "name": "stdout",
     "output_type": "stream",
     "text": [
      "[[0 1 0 1 0 1 0 1]\n",
      " [1 0 1 0 1 0 1 0]\n",
      " [0 1 0 1 0 1 0 1]\n",
      " [1 0 1 0 1 0 1 0]\n",
      " [0 1 0 1 0 1 0 1]\n",
      " [1 0 1 0 1 0 1 0]\n",
      " [0 1 0 1 0 1 0 1]\n",
      " [1 0 1 0 1 0 1 0]]\n"
     ]
    }
   ],
   "source": [
    "checkerboard = np.zeros((8, 8), dtype=int)\n",
    "checkerboard[1::2, ::2] = 1  \n",
    "checkerboard[::2, 1::2] = 1  \n",
    "\n",
    "print(checkerboard)\n"
   ]
  },
  {
   "cell_type": "markdown",
   "id": "c39a82a6",
   "metadata": {},
   "source": [
    "# 4.normalize a 5X5 random matrix."
   ]
  },
  {
   "cell_type": "code",
   "execution_count": 14,
   "id": "2bbcb1ed",
   "metadata": {},
   "outputs": [
    {
     "name": "stdout",
     "output_type": "stream",
     "text": [
      "Original Random Matrix:\n",
      "[[0.11472267 0.04719811 0.32021606 0.76160321 0.40228988]\n",
      " [0.27154108 0.56697581 0.42775825 0.46692864 0.3201412 ]\n",
      " [0.80943803 0.33577677 0.00890925 0.95722921 0.33927985]\n",
      " [0.65729172 0.03085183 0.37661723 0.04104372 0.512174  ]\n",
      " [0.32803619 0.74635815 0.86642793 0.86094876 0.28274169]]\n",
      "\n",
      "Normalized Matrix:\n",
      "[[-1.15179477 -1.39531377 -0.41070825  1.18109996 -0.11471916]\n",
      " [-0.58624855  0.47920029 -0.02287062  0.11839254 -0.4109782 ]\n",
      " [ 1.35361035 -0.35459047 -1.5333978   1.88660098 -0.34195706]\n",
      " [ 0.80491348 -1.45426459 -0.20730438 -1.41750882  0.28156436]\n",
      " [-0.38250591  1.12612056  1.55913737  1.53937741 -0.54585494]]\n"
     ]
    }
   ],
   "source": [
    "random_matrix = np.random.rand(5, 5)\n",
    "\n",
    "mean = np.mean(random_matrix)\n",
    "std = np.std(random_matrix)\n",
    "normalized_matrix = (random_matrix - mean) / std\n",
    "\n",
    "print(\"Original Random Matrix:\")\n",
    "print(random_matrix)\n",
    "print(\"\\nNormalized Matrix:\")\n",
    "print(normalized_matrix)\n"
   ]
  },
  {
   "cell_type": "markdown",
   "id": "c8c361a1",
   "metadata": {},
   "source": [
    "# 5.program to find common values between two arrays using numpy."
   ]
  },
  {
   "cell_type": "code",
   "execution_count": 15,
   "id": "f9e1cad1",
   "metadata": {},
   "outputs": [
    {
     "name": "stdout",
     "output_type": "stream",
     "text": [
      "[3 4 5]\n"
     ]
    }
   ],
   "source": [
    "array1 = np.array([1, 2, 3, 4, 5])\n",
    "array2 = np.array([3, 4, 5, 6, 7])\n",
    "\n",
    "common_values = np.intersect1d(array1, array2)\n",
    "\n",
    "print(common_values)\n"
   ]
  },
  {
   "cell_type": "markdown",
   "id": "aacabdd6",
   "metadata": {},
   "source": [
    "# 6.how to get the date of yestrday,today and tommrow in python"
   ]
  },
  {
   "cell_type": "code",
   "execution_count": 16,
   "id": "e478d1bf",
   "metadata": {},
   "outputs": [
    {
     "name": "stdout",
     "output_type": "stream",
     "text": [
      "Yesterday: 2023-09-24\n",
      "Today: 2023-09-25\n",
      "Tomorrow: 2023-09-26\n"
     ]
    }
   ],
   "source": [
    "from datetime import datetime, timedelta\n",
    "\n",
    "today = datetime.now()\n",
    "yesterday = today - timedelta(days=1)\n",
    "tomorrow = today + timedelta(days=1)\n",
    "today_str = today.strftime(\"%Y-%m-%d\")\n",
    "yesterday_str = yesterday.strftime(\"%Y-%m-%d\")\n",
    "tomorrow_str = tomorrow.strftime(\"%Y-%m-%d\")\n",
    "\n",
    "print(\"Yesterday:\", yesterday_str)\n",
    "print(\"Today:\", today_str)\n",
    "print(\"Tomorrow:\", tomorrow_str)\n"
   ]
  },
  {
   "cell_type": "markdown",
   "id": "fb580872",
   "metadata": {},
   "source": [
    "# 7. Consider two random array A and B, check if they are equal"
   ]
  },
  {
   "cell_type": "code",
   "execution_count": null,
   "id": "7021d0c6",
   "metadata": {},
   "outputs": [],
   "source": []
  },
  {
   "cell_type": "code",
   "execution_count": null,
   "id": "9db30572",
   "metadata": {},
   "outputs": [],
   "source": []
  },
  {
   "cell_type": "markdown",
   "id": "eeea884b",
   "metadata": {},
   "source": [
    "# 8.Create random vector of size 10 and replace the maximum value by 0"
   ]
  },
  {
   "cell_type": "code",
   "execution_count": 18,
   "id": "1985cd6b",
   "metadata": {},
   "outputs": [
    {
     "data": {
      "text/plain": [
       "array([0.88501455, 0.15031704, 0.58150546, 0.78860081, 0.49621738,\n",
       "       0.17701994, 0.59635347, 0.5048031 , 0.        , 0.42117912])"
      ]
     },
     "execution_count": 18,
     "metadata": {},
     "output_type": "execute_result"
    }
   ],
   "source": [
    "import numpy as np\n",
    "rv = np.random.random(10)\n",
    "rv[rv.argmax()]=0\n",
    "rv"
   ]
  },
  {
   "cell_type": "markdown",
   "id": "3ae3940c",
   "metadata": {},
   "source": [
    "# 9. print all values of an array"
   ]
  },
  {
   "cell_type": "code",
   "execution_count": 19,
   "id": "7585098f",
   "metadata": {},
   "outputs": [
    {
     "name": "stdout",
     "output_type": "stream",
     "text": [
      "0.8850145501708937\n",
      "0.1503170409525575\n",
      "0.5815054588219445\n",
      "0.7886008082581688\n",
      "0.4962173798166989\n",
      "0.17701993560195595\n",
      "0.5963534689356264\n",
      "0.5048031049275274\n",
      "0.0\n",
      "0.42117911663544905\n"
     ]
    }
   ],
   "source": [
    "for i in rv:\n",
    "    print(i)"
   ]
  },
  {
   "cell_type": "markdown",
   "id": "94cef5d3",
   "metadata": {},
   "source": [
    "# 10. sub mean of each row "
   ]
  },
  {
   "cell_type": "code",
   "execution_count": 20,
   "id": "9d9d2c31",
   "metadata": {},
   "outputs": [
    {
     "name": "stdout",
     "output_type": "stream",
     "text": [
      "[2.0, 5.0, 8.0]\n",
      "[[-1  0  1]\n",
      " [-1  0  1]\n",
      " [-1  0  1]]\n"
     ]
    }
   ],
   "source": [
    "m =np.array([[1,2,3],\n",
    "     [4,5,6],\n",
    "      [7,8,9]])\n",
    "mean=[]\n",
    "for i in range(len(m)):\n",
    "    mean.append(m[i:i+1].mean()) \n",
    "print(mean)\n",
    "for i in range(len(mean)):\n",
    "    m[i:i+1]=m[i:i+1]-mean[i]\n",
    "print(m)"
   ]
  },
  {
   "cell_type": "markdown",
   "id": "f4e25793",
   "metadata": {},
   "source": [
    "# 11.consider a vec, add 1 to each ele index by 2nd vec\n"
   ]
  },
  {
   "cell_type": "code",
   "execution_count": 21,
   "id": "5f32c09a",
   "metadata": {},
   "outputs": [
    {
     "data": {
      "text/plain": [
       "array([1, 4, 3, 4, 6, 6])"
      ]
     },
     "execution_count": 21,
     "metadata": {},
     "output_type": "execute_result"
    }
   ],
   "source": [
    "vec1 = np.array([1,2,3,4,5,6])\n",
    "vec2 = np.array([4,1,1,8])\n",
    "\n",
    "for i in vec2:\n",
    "    if (i<len(vec1)):\n",
    "        vec1[i]+=1\n",
    "        \n",
    "vec1"
   ]
  },
  {
   "cell_type": "markdown",
   "id": "2b7c8bca",
   "metadata": {},
   "source": [
    "# 12. diagonal of a dot product"
   ]
  },
  {
   "cell_type": "code",
   "execution_count": 22,
   "id": "ff018ebc",
   "metadata": {},
   "outputs": [
    {
     "data": {
      "text/plain": [
       "array([ 87, 222, 375])"
      ]
     },
     "execution_count": 22,
     "metadata": {},
     "output_type": "execute_result"
    }
   ],
   "source": [
    "vec1 =np.array([[1,2,3],\n",
    "     [4,5,6],\n",
    "      [7,8,9]])\n",
    "vec2 = np.array([[10,11,12],\n",
    "                 [13,14,15],\n",
    "                 [17,18,19]])\n",
    "\n",
    "vec3 = np.dot(vec1,vec2)\n",
    "np.diag(vec3)"
   ]
  },
  {
   "cell_type": "markdown",
   "id": "003bc886",
   "metadata": {},
   "source": [
    "# 13.most freq value in an array"
   ]
  },
  {
   "cell_type": "code",
   "execution_count": 24,
   "id": "427e5d18",
   "metadata": {},
   "outputs": [
    {
     "data": {
      "text/plain": [
       "8"
      ]
     },
     "execution_count": 24,
     "metadata": {},
     "output_type": "execute_result"
    }
   ],
   "source": [
    "x= np.random.randint(0,10,50)\n",
    "np.bincount(x).argmax()"
   ]
  },
  {
   "cell_type": "markdown",
   "id": "5cd17926",
   "metadata": {},
   "source": [
    "# 14.n largest values "
   ]
  },
  {
   "cell_type": "code",
   "execution_count": 25,
   "id": "57b4c1ee",
   "metadata": {},
   "outputs": [
    {
     "name": "stdout",
     "output_type": "stream",
     "text": [
      "enter a number: 5\n",
      "[2 3 4 5 6]\n"
     ]
    }
   ],
   "source": [
    "n= int(input('enter a number: '))\n",
    "ar = np.array([1,2,3,4,5,6])\n",
    "ar.sort()\n",
    "if(n<len(ar)):\n",
    "    print(ar[-n:])\n",
    "else:\n",
    "    print('error')"
   ]
  },
  {
   "cell_type": "markdown",
   "id": "68860b27",
   "metadata": {},
   "source": [
    "# 15. create record array from regular array"
   ]
  },
  {
   "cell_type": "code",
   "execution_count": 26,
   "id": "e82b3082",
   "metadata": {},
   "outputs": [
    {
     "name": "stdout",
     "output_type": "stream",
     "text": [
      "id: [1 2 3]\n",
      "name: ['vis' 'ach' 'lik']\n",
      "age: [22 23 22]\n"
     ]
    }
   ],
   "source": [
    "a= np.array([(1, \"vis\", 22),\n",
    "            (2, \"ach\", 23),\n",
    "            (3, \"lik\", 22)],\n",
    "            dtype=[('id', int), ('name', 'U10'), ('age', int)])\n",
    "b = np.rec.array(a)\n",
    "\n",
    "print(\"id:\",b.id)\n",
    "print(\"name:\",b.name)\n",
    "print(\"age:\",b.age)"
   ]
  },
  {
   "cell_type": "markdown",
   "id": "fc8583c9",
   "metadata": {},
   "source": [
    "# 16. swap 2 rows of an array"
   ]
  },
  {
   "cell_type": "code",
   "execution_count": 27,
   "id": "1fe9a0eb",
   "metadata": {},
   "outputs": [
    {
     "name": "stdout",
     "output_type": "stream",
     "text": [
      "[[1 2 3]\n",
      " [4 5 6]\n",
      " [7 8 9]]\n",
      "[[4 5 6]\n",
      " [1 2 3]\n",
      " [7 8 9]]\n"
     ]
    }
   ],
   "source": [
    "a =np.array([[1,2,3],\n",
    "     [4,5,6],\n",
    "      [7,8,9]])\n",
    "print(a)\n",
    "a[[0,1]]=a[[1,0]]\n",
    "print(a)"
   ]
  },
  {
   "cell_type": "markdown",
   "id": "4ae49458",
   "metadata": {},
   "source": [
    "# 17. reshape to next dimen"
   ]
  },
  {
   "cell_type": "code",
   "execution_count": 28,
   "id": "1938dfd1",
   "metadata": {},
   "outputs": [
    {
     "data": {
      "text/plain": [
       "array([[[ 23],\n",
       "        [ 34],\n",
       "        [121]],\n",
       "\n",
       "       [[ 23],\n",
       "        [ 22],\n",
       "        [ 67]],\n",
       "\n",
       "       [[686],\n",
       "        [434],\n",
       "        [123]]])"
      ]
     },
     "execution_count": 28,
     "metadata": {},
     "output_type": "execute_result"
    }
   ],
   "source": [
    "a =np.array([[23,34,121],\n",
    "     [23,22,67],\n",
    "      [686,434,123]])\n",
    "\n",
    "b=a.reshape((a.shape[0],a.shape[1],1))\n",
    "b"
   ]
  },
  {
   "cell_type": "code",
   "execution_count": null,
   "id": "750505dd",
   "metadata": {},
   "outputs": [],
   "source": []
  }
 ],
 "metadata": {
  "kernelspec": {
   "display_name": "Python 3 (ipykernel)",
   "language": "python",
   "name": "python3"
  },
  "language_info": {
   "codemirror_mode": {
    "name": "ipython",
    "version": 3
   },
   "file_extension": ".py",
   "mimetype": "text/x-python",
   "name": "python",
   "nbconvert_exporter": "python",
   "pygments_lexer": "ipython3",
   "version": "3.9.12"
  }
 },
 "nbformat": 4,
 "nbformat_minor": 5
}
