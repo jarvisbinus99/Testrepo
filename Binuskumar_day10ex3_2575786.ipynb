{
 "cells": [
  {
   "cell_type": "code",
   "execution_count": 3,
   "id": "e8a301ab",
   "metadata": {},
   "outputs": [],
   "source": [
    "%matplotlib inline\n",
    "import pandas as pd"
   ]
  },
  {
   "cell_type": "code",
   "execution_count": 4,
   "id": "fd9101f0",
   "metadata": {},
   "outputs": [
    {
     "data": {
      "text/html": [
       "<div>\n",
       "<style scoped>\n",
       "    .dataframe tbody tr th:only-of-type {\n",
       "        vertical-align: middle;\n",
       "    }\n",
       "\n",
       "    .dataframe tbody tr th {\n",
       "        vertical-align: top;\n",
       "    }\n",
       "\n",
       "    .dataframe thead th {\n",
       "        text-align: right;\n",
       "    }\n",
       "</style>\n",
       "<table border=\"1\" class=\"dataframe\">\n",
       "  <thead>\n",
       "    <tr style=\"text-align: right;\">\n",
       "      <th></th>\n",
       "      <th>title</th>\n",
       "      <th>year</th>\n",
       "    </tr>\n",
       "  </thead>\n",
       "  <tbody>\n",
       "    <tr>\n",
       "      <th>0</th>\n",
       "      <td>Tasveer Mere Sanam</td>\n",
       "      <td>1996</td>\n",
       "    </tr>\n",
       "    <tr>\n",
       "      <th>1</th>\n",
       "      <td>Only You</td>\n",
       "      <td>1994</td>\n",
       "    </tr>\n",
       "    <tr>\n",
       "      <th>2</th>\n",
       "      <td>El pueblo del terror</td>\n",
       "      <td>1970</td>\n",
       "    </tr>\n",
       "    <tr>\n",
       "      <th>3</th>\n",
       "      <td>Machine</td>\n",
       "      <td>2007</td>\n",
       "    </tr>\n",
       "    <tr>\n",
       "      <th>4</th>\n",
       "      <td>MARy</td>\n",
       "      <td>2008</td>\n",
       "    </tr>\n",
       "  </tbody>\n",
       "</table>\n",
       "</div>"
      ],
      "text/plain": [
       "                  title  year\n",
       "0    Tasveer Mere Sanam  1996\n",
       "1              Only You  1994\n",
       "2  El pueblo del terror  1970\n",
       "3               Machine  2007\n",
       "4                  MARy  2008"
      ]
     },
     "execution_count": 4,
     "metadata": {},
     "output_type": "execute_result"
    }
   ],
   "source": [
    "title = pd.read_csv(r\"C:\\Users\\hp\\Desktop\\practice exercises\\Python-S1\\titles.csv\", index_col=None)\n",
    "title.head()"
   ]
  },
  {
   "cell_type": "code",
   "execution_count": 5,
   "id": "98dd9464",
   "metadata": {},
   "outputs": [
    {
     "data": {
      "text/html": [
       "<div>\n",
       "<style scoped>\n",
       "    .dataframe tbody tr th:only-of-type {\n",
       "        vertical-align: middle;\n",
       "    }\n",
       "\n",
       "    .dataframe tbody tr th {\n",
       "        vertical-align: top;\n",
       "    }\n",
       "\n",
       "    .dataframe thead th {\n",
       "        text-align: right;\n",
       "    }\n",
       "</style>\n",
       "<table border=\"1\" class=\"dataframe\">\n",
       "  <thead>\n",
       "    <tr style=\"text-align: right;\">\n",
       "      <th></th>\n",
       "      <th>title</th>\n",
       "      <th>year</th>\n",
       "      <th>name</th>\n",
       "      <th>type</th>\n",
       "      <th>character</th>\n",
       "      <th>n</th>\n",
       "    </tr>\n",
       "  </thead>\n",
       "  <tbody>\n",
       "    <tr>\n",
       "      <th>0</th>\n",
       "      <td>Closet Monster</td>\n",
       "      <td>2015</td>\n",
       "      <td>Buffy #1</td>\n",
       "      <td>actor</td>\n",
       "      <td>Buffy 4</td>\n",
       "      <td>31.0</td>\n",
       "    </tr>\n",
       "    <tr>\n",
       "      <th>1</th>\n",
       "      <td>Suuri illusioni</td>\n",
       "      <td>1985</td>\n",
       "      <td>Homo $</td>\n",
       "      <td>actor</td>\n",
       "      <td>Guests</td>\n",
       "      <td>22.0</td>\n",
       "    </tr>\n",
       "    <tr>\n",
       "      <th>2</th>\n",
       "      <td>Battle of the Sexes</td>\n",
       "      <td>2017</td>\n",
       "      <td>$hutter</td>\n",
       "      <td>actor</td>\n",
       "      <td>Bobby Riggs Fan</td>\n",
       "      <td>10.0</td>\n",
       "    </tr>\n",
       "    <tr>\n",
       "      <th>3</th>\n",
       "      <td>Secret in Their Eyes</td>\n",
       "      <td>2015</td>\n",
       "      <td>$hutter</td>\n",
       "      <td>actor</td>\n",
       "      <td>2002 Dodger Fan</td>\n",
       "      <td>NaN</td>\n",
       "    </tr>\n",
       "    <tr>\n",
       "      <th>4</th>\n",
       "      <td>Steve Jobs</td>\n",
       "      <td>2015</td>\n",
       "      <td>$hutter</td>\n",
       "      <td>actor</td>\n",
       "      <td>1988 Opera House Patron</td>\n",
       "      <td>NaN</td>\n",
       "    </tr>\n",
       "  </tbody>\n",
       "</table>\n",
       "</div>"
      ],
      "text/plain": [
       "                  title  year      name   type                character     n\n",
       "0        Closet Monster  2015  Buffy #1  actor                  Buffy 4  31.0\n",
       "1       Suuri illusioni  1985    Homo $  actor                   Guests  22.0\n",
       "2   Battle of the Sexes  2017   $hutter  actor          Bobby Riggs Fan  10.0\n",
       "3  Secret in Their Eyes  2015   $hutter  actor          2002 Dodger Fan   NaN\n",
       "4            Steve Jobs  2015   $hutter  actor  1988 Opera House Patron   NaN"
      ]
     },
     "execution_count": 5,
     "metadata": {},
     "output_type": "execute_result"
    }
   ],
   "source": [
    "cast = pd.read_csv(r\"C:\\Users\\hp\\Desktop\\practice exercises\\Python-S1\\cast.csv\", index_col=None)\n",
    "cast.head()"
   ]
  },
  {
   "cell_type": "markdown",
   "id": "57bd0217",
   "metadata": {},
   "source": [
    "# Using groupby(), plot the number of films that have been released each decade in the history of cinema."
   ]
  },
  {
   "cell_type": "code",
   "execution_count": 7,
   "id": "412a3481",
   "metadata": {},
   "outputs": [
    {
     "data": {
      "text/plain": [
       "<function matplotlib.pyplot.xticks(ticks=None, labels=None, **kwargs)>"
      ]
     },
     "execution_count": 7,
     "metadata": {},
     "output_type": "execute_result"
    },
    {
     "data": {
      "image/png": "[encoded data removed]",
      "text/plain": [
       "<Figure size 720x432 with 1 Axes>"
      ]
     },
     "metadata": {
      "needs_background": "light"
     },
     "output_type": "display_data"
    }
   ],
   "source": [
    "import matplotlib.pyplot as plt\n",
    "\n",
    "title['year'] = title['year'].fillna(0).astype(int)\n",
    "\n",
    "title['decade'] = (title['year'] // 10) * 10\n",
    "\n",
    "film_count_by_decade = title.groupby('decade')['title'].count()\n",
    "\n",
    "plt.figure(figsize=(10, 6))\n",
    "film_count_by_decade.plot(kind='bar', color='skyblue')\n",
    "plt.xlabel('Decade')\n",
    "plt.ylabel('Number of Films Released')\n",
    "plt.title('Number of Films Released Each Decade in Cinema History')\n",
    "plt.xticks"
   ]
  },
  {
   "cell_type": "markdown",
   "id": "1aa3b244",
   "metadata": {},
   "source": [
    "# Use groupby() to plot the number of \"Hamlet\" films made each decade."
   ]
  },
  {
   "cell_type": "code",
   "execution_count": 9,
   "id": "db4ea3db",
   "metadata": {},
   "outputs": [
    {
     "data": {
      "text/plain": [
       "<AxesSubplot:title={'center':'Number of \"Hamlet\" Films per Decade'}, xlabel='decade'>"
      ]
     },
     "execution_count": 9,
     "metadata": {},
     "output_type": "execute_result"
    },
    {
     "data": {
      "image/png": "[encoded data removed]",
      "text/plain": [
       "<Figure size 432x288 with 1 Axes>"
      ]
     },
     "metadata": {
      "needs_background": "light"
     },
     "output_type": "display_data"
    }
   ],
   "source": [
    "title['decade'] = title['year'] // 10 * 10\n",
    "\n",
    "hamlet_by_decade = title[title['title'] == 'Hamlet'].groupby('decade').size()\n",
    "\n",
    "hamlet_by_decade.plot(kind='bar', title='Number of \"Hamlet\" Films per Decade')"
   ]
  },
  {
   "cell_type": "markdown",
   "id": "c1001123",
   "metadata": {},
   "source": [
    "# How many leading (n=1) roles were available to actors, and how many to actresses, in each year of the 1950s?"
   ]
  },
  {
   "cell_type": "code",
   "execution_count": 10,
   "id": "94656265",
   "metadata": {},
   "outputs": [
    {
     "name": "stdout",
     "output_type": "stream",
     "text": [
      "type\n",
      "actor      6692\n",
      "actress    3040\n",
      "Name: n, dtype: int64\n"
     ]
    }
   ],
   "source": [
    "roles_1950s = cast[(cast['year'] >= 1950) & (cast['year'] <= 1959)]\n",
    "\n",
    "leading_roles_1950s = roles_1950s[roles_1950s['n'] == 1].groupby('type')['n'].count()\n",
    "\n",
    "print(leading_roles_1950s)"
   ]
  },
  {
   "cell_type": "markdown",
   "id": "f9d1d210",
   "metadata": {},
   "source": [
    "# In the 1950s decade taken as a whole, how many total roles were available to actors, and how many to actresses, for each \"n\" number 1 through 5?"
   ]
  },
  {
   "cell_type": "code",
   "execution_count": 11,
   "id": "e6ea0b6d",
   "metadata": {},
   "outputs": [
    {
     "name": "stdout",
     "output_type": "stream",
     "text": [
      "type     n    \n",
      "actor    1.0      6692\n",
      "         2.0      4640\n",
      "         3.0      5654\n",
      "         4.0      5663\n",
      "         5.0      5674\n",
      "                  ... \n",
      "actress  162.0       1\n",
      "         163.0       1\n",
      "         164.0       1\n",
      "         418.0       1\n",
      "         788.0       1\n",
      "Name: n, Length: 260, dtype: int64\n"
     ]
    }
   ],
   "source": [
    "roles_1950s = cast[(cast['year'] >= 1950) & (cast['year'] <= 1959)]\n",
    "\n",
    "roles_by_n_1950s = roles_1950s.groupby(['type', 'n'])['n'].count()\n",
    "\n",
    "print(roles_by_n_1950s)"
   ]
  },
  {
   "cell_type": "markdown",
   "id": "b39a1863",
   "metadata": {},
   "source": [
    "# Use groupby() to determine how many roles are listed for each of the Pink Panther movies."
   ]
  },
  {
   "cell_type": "code",
   "execution_count": 12,
   "id": "17d06ec4",
   "metadata": {},
   "outputs": [
    {
     "name": "stdout",
     "output_type": "stream",
     "text": [
      "                            title  character\n",
      "0       Curse of the Pink Panther         67\n",
      "1     Revenge of the Pink Panther         68\n",
      "2         Son of the Pink Panther         46\n",
      "3                The Pink Panther        111\n",
      "4              The Pink Panther 2         84\n",
      "5  The Pink Panther Strikes Again         70\n",
      "6  The Return of the Pink Panther         30\n",
      "7       Trail of the Pink Panther         41\n"
     ]
    }
   ],
   "source": [
    "pink_panther_movies = cast[cast['title'].str.contains('Pink Panther', case=False)]\n",
    "\n",
    "roles_count_per_movie = pink_panther_movies.groupby('title')['character'].count().reset_index()\n",
    "\n",
    "print(roles_count_per_movie)"
   ]
  },
  {
   "cell_type": "markdown",
   "id": "b1f082ba",
   "metadata": {},
   "source": [
    "# List, in order by year, each of the films in which Frank Oz has played more than 1 role."
   ]
  },
  {
   "cell_type": "code",
   "execution_count": 14,
   "id": "7ff2b79f",
   "metadata": {},
   "outputs": [
    {
     "name": "stdout",
     "output_type": "stream",
     "text": [
      "                                  title  character  year  decade\n",
      "8                      The Muppet Movie          8  1979    1970\n",
      "0        An American Werewolf in London          2  1981    1980\n",
      "6                The Great Muppet Caper          6  1981    1980\n",
      "5                      The Dark Crystal          2  1982    1980\n",
      "9            The Muppets Take Manhattan          7  1984    1980\n",
      "1                      Follow That Bird          3  1985    1980\n",
      "7            The Muppet Christmas Carol          7  1992    1990\n",
      "2                Muppet Treasure Island          4  1996    1990\n",
      "3                    Muppets from Space          4  1999    1990\n",
      "4  The Adventures of Elmo in Grouchland          3  1999    1990\n"
     ]
    }
   ],
   "source": [
    "frank_oz_roles = cast[cast['name'] == 'Frank Oz']\n",
    "\n",
    "roles_count_for_frank_oz = frank_oz_roles.groupby('title')['character'].count().reset_index()\n",
    "\n",
    "multiple_roles_movies = roles_count_for_frank_oz[roles_count_for_frank_oz['character'] > 1]\n",
    "\n",
    "result = multiple_roles_movies.merge(title, on='title')\n",
    "\n",
    "result = result.sort_values(by='year')\n",
    "\n",
    "print(result)"
   ]
  },
  {
   "cell_type": "markdown",
   "id": "a3273d58",
   "metadata": {},
   "source": [
    "# List each of the characters that Frank Oz has portrayed at least twice"
   ]
  },
  {
   "cell_type": "code",
   "execution_count": 15,
   "id": "963e1d8c",
   "metadata": {},
   "outputs": [
    {
     "data": {
      "text/plain": [
       "['Miss Piggy',\n",
       " 'Yoda',\n",
       " 'Animal',\n",
       " 'Cookie Monster',\n",
       " 'Sam the Eagle',\n",
       " 'Fozzie Bear',\n",
       " 'Bert',\n",
       " 'Grover']"
      ]
     },
     "execution_count": 15,
     "metadata": {},
     "output_type": "execute_result"
    }
   ],
   "source": [
    "frank_oz_roles = cast[cast['name'] == 'Frank Oz']\n",
    "\n",
    "character_counts = frank_oz_roles['character'].value_counts()\n",
    "\n",
    "characters_appeared_twice_or_more = character_counts[character_counts >= 2]\n",
    "\n",
    "characters_appeared_twice_or_more.index.tolist()"
   ]
  },
  {
   "cell_type": "code",
   "execution_count": null,
   "id": "26f5a6f5",
   "metadata": {},
   "outputs": [],
   "source": []
  }
 ],
 "metadata": {
  "kernelspec": {
   "display_name": "Python 3 (ipykernel)",
   "language": "python",
   "name": "python3"
  },
  "language_info": {
   "codemirror_mode": {
    "name": "ipython",
    "version": 3
   },
   "file_extension": ".py",
   "mimetype": "text/x-python",
   "name": "python",
   "nbconvert_exporter": "python",
   "pygments_lexer": "ipython3",
   "version": "3.9.12"
  }
 },
 "nbformat": 4,
 "nbformat_minor": 5
}
