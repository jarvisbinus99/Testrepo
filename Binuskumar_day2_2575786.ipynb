{
 "cells": [
  {
   "cell_type": "markdown",
   "id": "7a95dd35",
   "metadata": {},
   "source": [
    "# 1.write a python function to list even and odd numbers in a list"
   ]
  },
  {
   "cell_type": "code",
   "execution_count": 3,
   "id": "2ab1eb1d",
   "metadata": {},
   "outputs": [
    {
     "name": "stdout",
     "output_type": "stream",
     "text": [
      "odd numbers [1, 3, 5, 7]\n",
      "even numbers [2, 4, 6, 8]\n"
     ]
    }
   ],
   "source": [
    "l=[1,2,3,4,5,6,7,8]\n",
    "def func(l):\n",
    "    odd=list(filter(lambda n:n%2,l))\n",
    "    even=list(filter(lambda n:n%2==0,l))\n",
    "    print(\"odd numbers\",odd)\n",
    "    print(\"even numbers\",even)\n",
    "func(l)"
   ]
  },
  {
   "cell_type": "markdown",
   "id": "07c49f6f",
   "metadata": {},
   "source": [
    "# 2.Write and run a Python program that asks the user to enter 8 integers (one at a time), and then prints out how many of those integers were even numbers. For example, if the user entered 19,6, 9, 20, 13, 7, 6, and 1, then your program should print out 3 since 3 of those numbers were even."
   ]
  },
  {
   "cell_type": "code",
   "execution_count": 11,
   "id": "26ee0eb9",
   "metadata": {},
   "outputs": [
    {
     "name": "stdout",
     "output_type": "stream",
     "text": [
      "enter 1st number1\n",
      "enter 2st number2\n",
      "enter 3st number3\n",
      "enter 4st number4\n",
      "enter 5st number5\n",
      "enter 6st number6\n",
      "enter 7st number7\n",
      "enter 8st number8\n",
      "[1, 2, 3, 4, 5, 6, 7, 8]\n",
      "even numbers were 4\n"
     ]
    }
   ],
   "source": [
    "l=[]\n",
    "for i in range(1,9):\n",
    "    ele=int(input(\"enter {}st number\".format(i)))\n",
    "    l.append(ele)\n",
    "print(l)\n",
    "even=list(filter(lambda n:n%2==0,l))\n",
    "print(\"even numbers were\",len(even))"
   ]
  },
  {
   "cell_type": "markdown",
   "id": "93567bbc",
   "metadata": {},
   "source": [
    "# 3.Write a Python program where you take any positive integer n, if n is even, divide it by 2 to get n.If this odd, multiply it by 3 and add 1 to obtain 3n + 1. Repeat the process until you reach 1."
   ]
  },
  {
   "cell_type": "code",
   "execution_count": 12,
   "id": "1ef2fbd4",
   "metadata": {},
   "outputs": [
    {
     "name": "stdout",
     "output_type": "stream",
     "text": [
      "enter a number32\n",
      "reached to 1\n"
     ]
    }
   ],
   "source": [
    "def func(n):\n",
    "    while(n!=1):\n",
    "        if(n%2==0):\n",
    "            n=n/2\n",
    "        else:\n",
    "            n=3*n+1\n",
    "    print(\"reached to 1\")\n",
    "\n",
    "n=int(input(\"enter a number\"))\n",
    "func(n)"
   ]
  },
  {
   "cell_type": "markdown",
   "id": "332dfe92",
   "metadata": {},
   "source": [
    "# 4.Write a Python program to compute the sum of all the multiples of 3 or 5 below 500."
   ]
  },
  {
   "cell_type": "code",
   "execution_count": 16,
   "id": "3af389ad",
   "metadata": {},
   "outputs": [
    {
     "name": "stdout",
     "output_type": "stream",
     "text": [
      "58418\n"
     ]
    }
   ],
   "source": [
    "sum1=0\n",
    "for i in range(501):\n",
    "    if((i%3==0)or(i%5==0)):\n",
    "        sum1=sum1+i\n",
    "print(sum1)"
   ]
  },
  {
   "cell_type": "markdown",
   "id": "0fb2ce37",
   "metadata": {},
   "source": [
    "# 5.To write a Python program to find first 'n' prime numbers from a list of given numbers."
   ]
  },
  {
   "cell_type": "code",
   "execution_count": 20,
   "id": "b82891a7",
   "metadata": {},
   "outputs": [
    {
     "name": "stdout",
     "output_type": "stream",
     "text": [
      "[2, 3, 5, 7]\n"
     ]
    }
   ],
   "source": [
    "l=[1,2,3,4,5,6,7,8]\n",
    "def is_prime(n):\n",
    "    if(n==0 or n==1):\n",
    "        return False\n",
    "    for i in range(2,int(n/2)+1):\n",
    "        if n%i==0:\n",
    "            return False\n",
    "    return True\n",
    "print(list(filter(is_prime,l)))"
   ]
  },
  {
   "cell_type": "markdown",
   "id": "3ec55eb9",
   "metadata": {},
   "source": [
    "# 6.To write a Python program to compute matrix multiplication."
   ]
  },
  {
   "cell_type": "code",
   "execution_count": 28,
   "id": "76adadbd",
   "metadata": {},
   "outputs": [
    {
     "name": "stdout",
     "output_type": "stream",
     "text": [
      "[84, 90, 96]\n",
      "[201, 216, 231]\n",
      "[318, 342, 366]\n"
     ]
    }
   ],
   "source": [
    "A=[[1,2,3],[4,5,6],[7,8,9]]\n",
    "B=[[10,11,12],[13,14,15],[16,17,18]]\n",
    "result = [[sum(a * b for a, b in zip(A_row, B_col)) for B_col in zip(*B)] for A_row in A]\n",
    "for r in result:\n",
    "    print(r)"
   ]
  },
  {
   "cell_type": "markdown",
   "id": "056f3594",
   "metadata": {},
   "source": [
    "# 7.Write a python Function to count the number of vowels in a string.\n"
   ]
  },
  {
   "cell_type": "code",
   "execution_count": 31,
   "id": "eb7b4ae1",
   "metadata": {},
   "outputs": [
    {
     "name": "stdout",
     "output_type": "stream",
     "text": [
      "no of vowels were:  4\n"
     ]
    }
   ],
   "source": [
    "s=\"Veronica\"\n",
    "def func(s):\n",
    "    l=len(''.join(filter(lambda n:n in 'aeiou',s)))\n",
    "    return l\n",
    "l=func(s)\n",
    "print(\"no of vowels were: \",l)"
   ]
  },
  {
   "cell_type": "markdown",
   "id": "e6a6d734",
   "metadata": {},
   "source": [
    "# 8.Write a python Function for finding factorial for the given number using a recursive function."
   ]
  },
  {
   "cell_type": "code",
   "execution_count": 34,
   "id": "80a71f38",
   "metadata": {},
   "outputs": [
    {
     "name": "stdout",
     "output_type": "stream",
     "text": [
      "enter a number:5\n",
      "Factorial :  120\n"
     ]
    }
   ],
   "source": [
    "def fact(n):\n",
    "    if (n==1 or n==0):\n",
    "        return 1\n",
    "    else:\n",
    "        return (n * fact(n - 1))\n",
    "num = int(input(\"enter a number:\"));\n",
    "print(\"Factorial : \",fact(num))\n"
   ]
  },
  {
   "cell_type": "markdown",
   "id": "83ab0ff5",
   "metadata": {},
   "source": [
    "# 9.Write a python Function for generating the Fibonacci series using the function."
   ]
  },
  {
   "cell_type": "code",
   "execution_count": 35,
   "id": "245a5512",
   "metadata": {},
   "outputs": [
    {
     "name": "stdout",
     "output_type": "stream",
     "text": [
      "34\n"
     ]
    }
   ],
   "source": [
    "def Fibo(n):\n",
    "    if n == 0:\n",
    "        return 0\n",
    "    elif n == 1 or n == 2:\n",
    "        return 1\n",
    "\n",
    "    else:\n",
    "        return Fibo(n-1) + Fibo(n-2)\n",
    "print(Fibo(9))\n"
   ]
  },
  {
   "cell_type": "markdown",
   "id": "497d5d59",
   "metadata": {},
   "source": [
    "# 10.Python program to display the given integer in reverse order using the function without an in- built function."
   ]
  },
  {
   "cell_type": "code",
   "execution_count": 36,
   "id": "f28bc352",
   "metadata": {},
   "outputs": [
    {
     "name": "stdout",
     "output_type": "stream",
     "text": [
      "54321\n"
     ]
    }
   ],
   "source": [
    "n=12345\n",
    "def func(n):\n",
    "    return int(str(n)[::-1])\n",
    "n2=func(n)\n",
    "print(n2)"
   ]
  },
  {
   "cell_type": "markdown",
   "id": "f24faa95",
   "metadata": {},
   "source": [
    "# 11.Write a Python Function to display all integers within the range 200-300 whose sum of digits is an even number."
   ]
  },
  {
   "cell_type": "code",
   "execution_count": 41,
   "id": "3bd27b36",
   "metadata": {},
   "outputs": [
    {
     "name": "stdout",
     "output_type": "stream",
     "text": [
      "[200, 202, 204, 206, 208, 211, 213, 215, 217, 219, 220, 222, 224, 226, 228, 231, 233, 235, 237, 239, 240, 242, 244, 246, 248, 251, 253, 255, 257, 259, 260, 262, 264, 266, 268, 271, 273, 275, 277, 279, 280, 282, 284, 286, 288, 291, 293, 295, 297, 299]\n"
     ]
    }
   ],
   "source": [
    "n1=200\n",
    "n2=300\n",
    "def func(n1,n2):\n",
    "    l=[]\n",
    "    for i in range(n1,n2+1):\n",
    "        l1=list(map(int,str(i)))\n",
    "        if(sum(l1)%2==0):\n",
    "            l.append(i)\n",
    "    return l\n",
    "l2=func(200,300)\n",
    "print(l2)"
   ]
  },
  {
   "cell_type": "markdown",
   "id": "0008f14c",
   "metadata": {},
   "source": [
    "# 12.Write a python Function to find the number of digits and sum of digits for a given integer."
   ]
  },
  {
   "cell_type": "code",
   "execution_count": 42,
   "id": "c0c23b6a",
   "metadata": {},
   "outputs": [
    {
     "name": "stdout",
     "output_type": "stream",
     "text": [
      "enter a integer123123\n",
      "No of digits are:  6\n",
      "sum of digits are 12\n"
     ]
    }
   ],
   "source": [
    "n=int(input(\"enter a integer\"))\n",
    "def func(n):\n",
    "    l1=list(map(int,str(n)))\n",
    "    print(\"No of digits are: \",len(l1))\n",
    "    print(\"sum of digits are\",sum(l1))\n",
    "func(n)"
   ]
  },
  {
   "cell_type": "markdown",
   "id": "34d7d078",
   "metadata": {},
   "source": [
    "# 13.Write functions called is _sorted that takes a list as a parameter and returns True if the list is sorted in ascending order and False otherwise and has_ duplicates that takes a list and returns True if there is any element that appears more than once. It should not modify the original list."
   ]
  },
  {
   "cell_type": "code",
   "execution_count": 47,
   "id": "57f0b561",
   "metadata": {},
   "outputs": [
    {
     "name": "stdout",
     "output_type": "stream",
     "text": [
      "False\n",
      "True\n"
     ]
    }
   ],
   "source": [
    "l=[11,12,13,14,15,11]\n",
    "def is_sorted(l):\n",
    "    if l==sorted(l):\n",
    "        return True\n",
    "    return False\n",
    "def has_duplicates(l):\n",
    "    if len(l)==len(set(l)):\n",
    "        return False\n",
    "    return True\n",
    "a=is_sorted(l)\n",
    "print(a)\n",
    "b=has_duplicates(l)\n",
    "print(b)\n"
   ]
  },
  {
   "cell_type": "markdown",
   "id": "cd5f9630",
   "metadata": {},
   "source": [
    "# 14. Write functions called nested_sum that takes a list of integers and adds up the elements from all the nested lists and cumsum that takes a list of numbers and returns the cumulative sum; that is, a new list where the ith element is the sum of the first i + 1 elements from the original list.\n"
   ]
  },
  {
   "cell_type": "code",
   "execution_count": 51,
   "id": "ef13a135",
   "metadata": {},
   "outputs": [
    {
     "name": "stdout",
     "output_type": "stream",
     "text": [
      "[6, 15, 24]\n",
      "[1, 56, 59, 63, 68, 74, 81]\n"
     ]
    }
   ],
   "source": [
    "l1=[[1,2,3],[4,5,6],[7,8,9]]\n",
    "l2=[1,55,3,4,5,6,7]\n",
    "def nested_sum(l):\n",
    "    return list(map(sum,l))\n",
    "def cumsum(l):\n",
    "    l3=[]\n",
    "    for i in range(len(l)):\n",
    "        sum1=0\n",
    "        for j in range(i+1):\n",
    "            sum1=sum1+l[j]\n",
    "        l3.append(sum1)\n",
    "    return l3\n",
    "l4=nested_sum(l1)\n",
    "print(l4)\n",
    "l5=cumsum(l2)\n",
    "print(l5) "
   ]
  }
 ],
 "metadata": {
  "kernelspec": {
   "display_name": "Python 3 (ipykernel)",
   "language": "python",
   "name": "python3"
  },
  "language_info": {
   "codemirror_mode": {
    "name": "ipython",
    "version": 3
   },
   "file_extension": ".py",
   "mimetype": "text/x-python",
   "name": "python",
   "nbconvert_exporter": "python",
   "pygments_lexer": "ipython3",
   "version": "3.9.12"
  }
 },
 "nbformat": 4,
 "nbformat_minor": 5
}
