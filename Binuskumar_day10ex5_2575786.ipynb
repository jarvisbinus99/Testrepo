{
 "cells": [
  {
   "cell_type": "code",
   "execution_count": 4,
   "id": "23c4a5be",
   "metadata": {},
   "outputs": [],
   "source": [
    "%matplotlib inline\n",
    "import pandas as pd"
   ]
  },
  {
   "cell_type": "code",
   "execution_count": 5,
   "id": "edd735d2",
   "metadata": {},
   "outputs": [
    {
     "data": {
      "text/html": [
       "<div>\n",
       "<style scoped>\n",
       "    .dataframe tbody tr th:only-of-type {\n",
       "        vertical-align: middle;\n",
       "    }\n",
       "\n",
       "    .dataframe tbody tr th {\n",
       "        vertical-align: top;\n",
       "    }\n",
       "\n",
       "    .dataframe thead th {\n",
       "        text-align: right;\n",
       "    }\n",
       "</style>\n",
       "<table border=\"1\" class=\"dataframe\">\n",
       "  <thead>\n",
       "    <tr style=\"text-align: right;\">\n",
       "      <th></th>\n",
       "      <th>title</th>\n",
       "      <th>year</th>\n",
       "      <th>name</th>\n",
       "      <th>type</th>\n",
       "      <th>character</th>\n",
       "      <th>n</th>\n",
       "    </tr>\n",
       "  </thead>\n",
       "  <tbody>\n",
       "    <tr>\n",
       "      <th>0</th>\n",
       "      <td>Closet Monster</td>\n",
       "      <td>2015</td>\n",
       "      <td>Buffy #1</td>\n",
       "      <td>actor</td>\n",
       "      <td>Buffy 4</td>\n",
       "      <td>31.0</td>\n",
       "    </tr>\n",
       "    <tr>\n",
       "      <th>1</th>\n",
       "      <td>Suuri illusioni</td>\n",
       "      <td>1985</td>\n",
       "      <td>Homo $</td>\n",
       "      <td>actor</td>\n",
       "      <td>Guests</td>\n",
       "      <td>22.0</td>\n",
       "    </tr>\n",
       "    <tr>\n",
       "      <th>2</th>\n",
       "      <td>Battle of the Sexes</td>\n",
       "      <td>2017</td>\n",
       "      <td>$hutter</td>\n",
       "      <td>actor</td>\n",
       "      <td>Bobby Riggs Fan</td>\n",
       "      <td>10.0</td>\n",
       "    </tr>\n",
       "    <tr>\n",
       "      <th>3</th>\n",
       "      <td>Secret in Their Eyes</td>\n",
       "      <td>2015</td>\n",
       "      <td>$hutter</td>\n",
       "      <td>actor</td>\n",
       "      <td>2002 Dodger Fan</td>\n",
       "      <td>NaN</td>\n",
       "    </tr>\n",
       "    <tr>\n",
       "      <th>4</th>\n",
       "      <td>Steve Jobs</td>\n",
       "      <td>2015</td>\n",
       "      <td>$hutter</td>\n",
       "      <td>actor</td>\n",
       "      <td>1988 Opera House Patron</td>\n",
       "      <td>NaN</td>\n",
       "    </tr>\n",
       "  </tbody>\n",
       "</table>\n",
       "</div>"
      ],
      "text/plain": [
       "                  title  year      name   type                character     n\n",
       "0        Closet Monster  2015  Buffy #1  actor                  Buffy 4  31.0\n",
       "1       Suuri illusioni  1985    Homo $  actor                   Guests  22.0\n",
       "2   Battle of the Sexes  2017   $hutter  actor          Bobby Riggs Fan  10.0\n",
       "3  Secret in Their Eyes  2015   $hutter  actor          2002 Dodger Fan   NaN\n",
       "4            Steve Jobs  2015   $hutter  actor  1988 Opera House Patron   NaN"
      ]
     },
     "execution_count": 5,
     "metadata": {},
     "output_type": "execute_result"
    }
   ],
   "source": [
    "cast = pd.read_csv(r\"C:\\Users\\hp\\Desktop\\practice exercises\\Python-S1\\cast.csv\", index_col=None)\n",
    "cast.head()\n"
   ]
  },
  {
   "cell_type": "code",
   "execution_count": 6,
   "id": "47cfb370",
   "metadata": {},
   "outputs": [
    {
     "data": {
      "text/html": [
       "<div>\n",
       "<style scoped>\n",
       "    .dataframe tbody tr th:only-of-type {\n",
       "        vertical-align: middle;\n",
       "    }\n",
       "\n",
       "    .dataframe tbody tr th {\n",
       "        vertical-align: top;\n",
       "    }\n",
       "\n",
       "    .dataframe thead th {\n",
       "        text-align: right;\n",
       "    }\n",
       "</style>\n",
       "<table border=\"1\" class=\"dataframe\">\n",
       "  <thead>\n",
       "    <tr style=\"text-align: right;\">\n",
       "      <th></th>\n",
       "      <th>title</th>\n",
       "      <th>year</th>\n",
       "      <th>country</th>\n",
       "      <th>date</th>\n",
       "    </tr>\n",
       "  </thead>\n",
       "  <tbody>\n",
       "    <tr>\n",
       "      <th>0</th>\n",
       "      <td>#73, Shaanthi Nivaasa</td>\n",
       "      <td>2007</td>\n",
       "      <td>India</td>\n",
       "      <td>2007-06-15</td>\n",
       "    </tr>\n",
       "    <tr>\n",
       "      <th>1</th>\n",
       "      <td>#BKKY</td>\n",
       "      <td>2016</td>\n",
       "      <td>Cambodia</td>\n",
       "      <td>2017-10-12</td>\n",
       "    </tr>\n",
       "    <tr>\n",
       "      <th>2</th>\n",
       "      <td>#Beings</td>\n",
       "      <td>2015</td>\n",
       "      <td>Romania</td>\n",
       "      <td>2015-01-29</td>\n",
       "    </tr>\n",
       "    <tr>\n",
       "      <th>3</th>\n",
       "      <td>#Captured</td>\n",
       "      <td>2017</td>\n",
       "      <td>USA</td>\n",
       "      <td>2017-09-05</td>\n",
       "    </tr>\n",
       "    <tr>\n",
       "      <th>4</th>\n",
       "      <td>#Ewankosau saranghaeyo</td>\n",
       "      <td>2015</td>\n",
       "      <td>Philippines</td>\n",
       "      <td>2015-01-21</td>\n",
       "    </tr>\n",
       "  </tbody>\n",
       "</table>\n",
       "</div>"
      ],
      "text/plain": [
       "                    title  year      country        date\n",
       "0   #73, Shaanthi Nivaasa  2007        India  2007-06-15\n",
       "1                   #BKKY  2016     Cambodia  2017-10-12\n",
       "2                 #Beings  2015      Romania  2015-01-29\n",
       "3               #Captured  2017          USA  2017-09-05\n",
       "4  #Ewankosau saranghaeyo  2015  Philippines  2015-01-21"
      ]
     },
     "execution_count": 6,
     "metadata": {},
     "output_type": "execute_result"
    }
   ],
   "source": [
    "release_dates = pd.read_csv(r\"C:\\Users\\hp\\Desktop\\practice exercises\\Python-S1\\release_dates.csv\", index_col=None)\n",
    "release_dates.head()"
   ]
  },
  {
   "cell_type": "markdown",
   "id": "88580b0f",
   "metadata": {},
   "source": [
    "# Make a bar plot of the months in which movies with \"Christmas\" in their title tend to be released in the USA."
   ]
  },
  {
   "cell_type": "code",
   "execution_count": 7,
   "id": "4d783e8b",
   "metadata": {},
   "outputs": [
    {
     "data": {
      "image/png": "[encoded data removed]",
      "text/plain": [
       "<Figure size 720x432 with 1 Axes>"
      ]
     },
     "metadata": {
      "needs_background": "light"
     },
     "output_type": "display_data"
    }
   ],
   "source": [
    "import matplotlib.pyplot as plt\n",
    "\n",
    "christmas_movies = cast[cast['title'].str.contains('Christmas', case=False, na=False)]\n",
    "\n",
    "christmas_movies_usa = christmas_movies.merge(release_dates[release_dates['country'] == 'USA'], on='title')\n",
    "\n",
    "christmas_movies_usa['date'] = pd.to_datetime(christmas_movies_usa['date'])\n",
    "\n",
    "christmas_movies_usa['release_month'] = christmas_movies_usa['date'].dt.month\n",
    "\n",
    "monthly_counts = christmas_movies_usa['release_month'].value_counts().sort_index()\n",
    "\n",
    "monthly_counts = monthly_counts.reindex(range(1, 13), fill_value=0)\n",
    "\n",
    "plt.figure(figsize=(10, 6))\n",
    "plt.bar(monthly_counts.index, monthly_counts.values)\n",
    "plt.title('Release Months of \"Christmas\" Movies in the USA')\n",
    "plt.xlabel('Month')\n",
    "plt.ylabel('Number of Movies Released')\n",
    "plt.xticks(monthly_counts.index, [str(i) for i in monthly_counts.index])  # Set tick labels for all 12 months\n",
    "plt.show()"
   ]
  },
  {
   "cell_type": "markdown",
   "id": "a4b2d416",
   "metadata": {},
   "source": [
    "# Make a bar plot of the months in which movies whose titles start with \"The Hobbit\" are released in the USA."
   ]
  },
  {
   "cell_type": "code",
   "execution_count": 8,
   "id": "305ef0d9",
   "metadata": {},
   "outputs": [
    {
     "name": "stdout",
     "output_type": "stream",
     "text": [
      "                                 title  year_x              name   type  \\\n",
      "50   The Hobbit: An Unexpected Journey    2012   Frazer Anderson  actor   \n",
      "115  The Hobbit: An Unexpected Journey    2012  Richard Armitage  actor   \n",
      "180  The Hobbit: An Unexpected Journey    2012  Timothy Bartlett  actor   \n",
      "245  The Hobbit: An Unexpected Journey    2012      Manu Bennett  actor   \n",
      "310  The Hobbit: An Unexpected Journey    2012  Jarred Blakiston  actor   \n",
      "\n",
      "            character     n  year_y country        date  \n",
      "50          Moria Orc   NaN    2012     USA  2012-12-14  \n",
      "115            Thorin   3.0    2012     USA  2012-12-14  \n",
      "180  Master Worrywort  31.0    2012     USA  2012-12-14  \n",
      "245              Azog  27.0    2012     USA  2012-12-14  \n",
      "310       Musical Elf   NaN    2012     USA  2012-12-14  \n"
     ]
    },
    {
     "data": {
      "image/png": "[encoded data removed]",
      "text/plain": [
       "<Figure size 432x288 with 1 Axes>"
      ]
     },
     "metadata": {
      "needs_background": "light"
     },
     "output_type": "display_data"
    }
   ],
   "source": [
    "import matplotlib.pyplot as plt\n",
    "\n",
    "the_hobbit_movies = cast[cast['title'].str.startswith('The Hobbit')]\n",
    "\n",
    "the_hobbit_usa_release = the_hobbit_movies.merge(release_dates, on='title', how='inner')\n",
    "the_hobbit_usa_release = the_hobbit_usa_release[the_hobbit_usa_release['country'] == 'USA']\n",
    "\n",
    "print(the_hobbit_usa_release.head())\n",
    "\n",
    "the_hobbit_usa_release['date'] = pd.to_datetime(the_hobbit_usa_release['date'])\n",
    "\n",
    "the_hobbit_usa_release['month'] = the_hobbit_usa_release['date'].dt.month\n",
    "month_counts = the_hobbit_usa_release['month'].value_counts().sort_index()\n",
    "month_names = ['Jan', 'Feb', 'Mar', 'Apr', 'May', 'Jun', 'Jul', 'Aug', 'Sep', 'Oct', 'Nov', 'Dec']\n",
    "\n",
    "plt.bar(month_names, month_counts)\n",
    "plt.xlabel('Month')\n",
    "plt.ylabel('Number of Releases')\n",
    "plt.title('Release Months of \"The Hobbit\" Movies in the USA')\n",
    "plt.show()\n"
   ]
  },
  {
   "cell_type": "markdown",
   "id": "282d76af",
   "metadata": {},
   "source": [
    "# Make a bar plot of the day of the week on which movies with \"Romance\" in their title tend to be released in the USA."
   ]
  },
  {
   "cell_type": "code",
   "execution_count": 9,
   "id": "02333479",
   "metadata": {},
   "outputs": [
    {
     "data": {
      "image/png": "[encoded data removed]",
      "text/plain": [
       "<Figure size 432x288 with 1 Axes>"
      ]
     },
     "metadata": {
      "needs_background": "light"
     },
     "output_type": "display_data"
    }
   ],
   "source": [
    "import matplotlib.pyplot as plt\n",
    "\n",
    "romance_movies = cast[cast['title'].str.contains('Romance', case=False)]\n",
    "\n",
    "romance_usa_release = romance_movies.merge(release_dates, left_on=['title', 'year'], right_on=['title', 'year'], how='inner')\n",
    "romance_usa_release = romance_usa_release[romance_usa_release['country'] == 'USA']\n",
    "\n",
    "romance_usa_release['date'] = pd.to_datetime(romance_usa_release['date'])\n",
    "\n",
    "romance_usa_release['day_of_week'] = romance_usa_release['date'].dt.day_name()\n",
    "day_of_week_counts = romance_usa_release['day_of_week'].value_counts().reindex(['Monday', 'Tuesday', 'Wednesday', 'Thursday', 'Friday', 'Saturday', 'Sunday'])\n",
    "\n",
    "plt.bar(day_of_week_counts.index, day_of_week_counts)\n",
    "plt.xlabel('Day of the Week')\n",
    "plt.ylabel('Number of Releases')\n",
    "plt.title('Release Days of \"Romance\" Movies in the USA')\n",
    "plt.show()\n"
   ]
  },
  {
   "cell_type": "markdown",
   "id": "ae406c8b",
   "metadata": {},
   "source": [
    "# Make a bar plot of the day of the week on which movies with \"Action\" in their title tend to be released in the USA."
   ]
  },
  {
   "cell_type": "code",
   "execution_count": 10,
   "id": "85c61d83",
   "metadata": {},
   "outputs": [
    {
     "data": {
      "image/png": "[encoded data removed]",
      "text/plain": [
       "<Figure size 432x288 with 1 Axes>"
      ]
     },
     "metadata": {
      "needs_background": "light"
     },
     "output_type": "display_data"
    }
   ],
   "source": [
    "action_movies = cast[cast['title'].str.contains('Action', case=False)]\n",
    "\n",
    "action_usa_release = action_movies.merge(release_dates, left_on=['title', 'year'], right_on=['title', 'year'], how='inner')\n",
    "action_usa_release = action_usa_release[action_usa_release['country'] == 'USA']\n",
    "\n",
    "action_usa_release['date'] = pd.to_datetime(action_usa_release['date'])\n",
    "\n",
    "action_usa_release['day_of_week'] = action_usa_release['date'].dt.day_name()\n",
    "day_of_week_counts = action_usa_release['day_of_week'].value_counts().reindex(['Monday', 'Tuesday', 'Wednesday', 'Thursday', 'Friday', 'Saturday', 'Sunday'])\n",
    "\n",
    "plt.bar(day_of_week_counts.index, day_of_week_counts)\n",
    "plt.xlabel('Day of the Week')\n",
    "plt.ylabel('Number of Releases')\n",
    "plt.title('Release Days of \"Action\" Movies in the USA')\n",
    "plt.show()\n"
   ]
  },
  {
   "cell_type": "markdown",
   "id": "f52d90ba",
   "metadata": {},
   "source": [
    "# On which date was each Judi Dench movie from the 1990s released in the USA?"
   ]
  },
  {
   "cell_type": "code",
   "execution_count": 11,
   "id": "97e72373",
   "metadata": {},
   "outputs": [
    {
     "name": "stdout",
     "output_type": "stream",
     "text": [
      "                       title        date\n",
      "1                  GoldenEye  1995-11-17\n",
      "40                    Hamlet  1910-02-02\n",
      "43                    Hamlet  1911-04-15\n",
      "47                    Hamlet  1921-11-08\n",
      "65                    Hamlet  1991-01-18\n",
      "82                    Hamlet  1996-12-25\n",
      "104                   Hamlet  2000-06-23\n",
      "118                   Hamlet  2014-01-10\n",
      "121                   Hamlet  2016-04-24\n",
      "132             Jack & Sarah  1996-03-22\n",
      "139                Mrs Brown  1997-10-03\n",
      "162      Shakespeare in Love  1999-01-08\n",
      "208       Tea with Mussolini  1999-05-14\n",
      "234  The World Is Not Enough  1999-11-19\n",
      "307      Tomorrow Never Dies  1997-12-19\n"
     ]
    }
   ],
   "source": [
    "judi_dench_movies_1990s = cast[(cast['name'] == 'Judi Dench') & (cast['year'] >= 1990) & (cast['year'] <= 1999)]\n",
    "\n",
    "judi_dench_movies_1990s_usa_release = judi_dench_movies_1990s.merge(release_dates, on='title', how='inner')\n",
    "judi_dench_movies_1990s_usa_release = judi_dench_movies_1990s_usa_release[judi_dench_movies_1990s_usa_release['country'] == 'USA']\n",
    "\n",
    "print(judi_dench_movies_1990s_usa_release[['title', 'date']])"
   ]
  },
  {
   "cell_type": "markdown",
   "id": "7ca8c008",
   "metadata": {},
   "source": [
    "# In which months do films with Judi Dench tend to be released in the USA?"
   ]
  },
  {
   "cell_type": "code",
   "execution_count": 12,
   "id": "65736b0d",
   "metadata": {},
   "outputs": [
    {
     "data": {
      "image/png": "[encoded data removed]",
      "text/plain": [
       "<Figure size 432x288 with 1 Axes>"
      ]
     },
     "metadata": {
      "needs_background": "light"
     },
     "output_type": "display_data"
    }
   ],
   "source": [
    "import matplotlib.pyplot as plt\n",
    "\n",
    "judi_dench_movies = cast[cast['name'] == 'Judi Dench']\n",
    "\n",
    "judi_dench_movies_usa_release = judi_dench_movies.merge(release_dates, on='title', how='inner')\n",
    "judi_dench_movies_usa_release = judi_dench_movies_usa_release[judi_dench_movies_usa_release['country'] == 'USA']\n",
    "\n",
    "judi_dench_movies_usa_release['date'] = pd.to_datetime(judi_dench_movies_usa_release['date'], errors='coerce')\n",
    "\n",
    "judi_dench_movies_usa_release = judi_dench_movies_usa_release.dropna(subset=['date'])\n",
    "\n",
    "judi_dench_movies_usa_release['month'] = judi_dench_movies_usa_release['date'].dt.month\n",
    "\n",
    "month_counts = judi_dench_movies_usa_release['month'].value_counts().sort_index()\n",
    "month_names = ['Jan', 'Feb', 'Mar', 'Apr', 'May', 'Jun', 'Jul', 'Aug', 'Sep', 'Oct', 'Nov', 'Dec']\n",
    "\n",
    "plt.bar(month_names, month_counts)\n",
    "plt.xlabel('Month')\n",
    "plt.ylabel('Number of Releases')\n",
    "plt.title('Release Months of Judi Dench Movies in the USA')\n",
    "plt.show()\n"
   ]
  },
  {
   "cell_type": "markdown",
   "id": "f12e6e7a",
   "metadata": {},
   "source": [
    "# In which months do films with Tom Cruise tend to be released in the USA?"
   ]
  },
  {
   "cell_type": "code",
   "execution_count": 13,
   "id": "8304f48d",
   "metadata": {},
   "outputs": [
    {
     "data": {
      "image/png": "[encoded data removed]",
      "text/plain": [
       "<Figure size 432x288 with 1 Axes>"
      ]
     },
     "metadata": {
      "needs_background": "light"
     },
     "output_type": "display_data"
    }
   ],
   "source": [
    "import matplotlib.pyplot as plt\n",
    "\n",
    "tom_cruise_movies = cast[cast['name'] == 'Tom Cruise']\n",
    "\n",
    "tom_cruise_movies_usa_release = tom_cruise_movies.merge(release_dates, on='title', how='inner')\n",
    "tom_cruise_movies_usa_release = tom_cruise_movies_usa_release[tom_cruise_movies_usa_release['country'] == 'USA']\n",
    "\n",
    "tom_cruise_movies_usa_release['date'] = pd.to_datetime(tom_cruise_movies_usa_release['date'], errors='coerce')\n",
    "\n",
    "tom_cruise_movies_usa_release = tom_cruise_movies_usa_release.dropna(subset=['date'])\n",
    "\n",
    "tom_cruise_movies_usa_release['month'] = tom_cruise_movies_usa_release['date'].dt.month\n",
    "\n",
    "month_counts = tom_cruise_movies_usa_release['month'].value_counts().sort_index()\n",
    "month_names = ['Jan', 'Feb', 'Mar', 'Apr', 'May', 'Jun', 'Jul', 'Aug', 'Sep', 'Oct', 'Nov', 'Dec']\n",
    "\n",
    "plt.bar(month_names, month_counts)\n",
    "plt.xlabel('Month')\n",
    "plt.ylabel('Number of Releases')\n",
    "plt.title('Release Months of Tom Cruise Movies in the USA')\n",
    "plt.show()"
   ]
  },
  {
   "cell_type": "code",
   "execution_count": null,
   "id": "859de237",
   "metadata": {},
   "outputs": [],
   "source": []
  }
 ],
 "metadata": {
  "kernelspec": {
   "display_name": "Python 3 (ipykernel)",
   "language": "python",
   "name": "python3"
  },
  "language_info": {
   "codemirror_mode": {
    "name": "ipython",
    "version": 3
   },
   "file_extension": ".py",
   "mimetype": "text/x-python",
   "name": "python",
   "nbconvert_exporter": "python",
   "pygments_lexer": "ipython3",
   "version": "3.9.12"
  }
 },
 "nbformat": 4,
 "nbformat_minor": 5
}
