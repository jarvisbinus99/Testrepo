{
 "cells": [
  {
   "cell_type": "markdown",
   "id": "62922f8f",
   "metadata": {},
   "source": [
    "# 1.Module Import and Management"
   ]
  },
  {
   "cell_type": "code",
   "execution_count": 46,
   "id": "ddfec0ef",
   "metadata": {},
   "outputs": [
    {
     "name": "stdout",
     "output_type": "stream",
     "text": [
      "Hello, Binus from module1!\n",
      "This is a variable from module1\n",
      "Hi, Binus from module2!\n",
      "This is a variable from module2\n",
      "This is a function from custom_module\n",
      "42\n"
     ]
    }
   ],
   "source": [
    "# main.py\n",
    "\n",
    "try:\n",
    "    import module1\n",
    "    import module2\n",
    "    import custom_module\n",
    "except ModuleNotFoundError as e:\n",
    "    print(f\"Error: {e}\")\n",
    "    exit(1)\n",
    "\n",
    "def main():\n",
    "    name = \"Binus\"\n",
    "\n",
    "    print(module1.greet(name))\n",
    "    print(module1.module1_variable)\n",
    "\n",
    "    print(module2.greet(name))\n",
    "    print(module2.module2_variable)\n",
    "\n",
    "    print(custom_module.custom_function())\n",
    "    custom_instance = custom_module.CustomClass(42)\n",
    "    print(custom_instance.value)\n",
    "\n",
    "if __name__ == \"__main__\":\n",
    "    main()\n"
   ]
  },
  {
   "cell_type": "markdown",
   "id": "f8361a3e",
   "metadata": {},
   "source": [
    "# 2. Virtual Environment Management"
   ]
  },
  {
   "cell_type": "code",
   "execution_count": null,
   "id": "7daf099f",
   "metadata": {},
   "outputs": [],
   "source": [
    "import subprocess\n",
    "import sys\n",
    "import os\n",
    "def create_binenv(venv_name):\n",
    "    try:\n",
    "        subprocess.run([sys.executable, \"-m\", \"venv\", venv_name], check=True)\n",
    "        print(f\"Virtual environment '{venv_name}' created successfully.\")\n",
    "    except subprocess.CalledProcessError as e:\n",
    "        print(f\"Error creating virtual environment: {e}\")\n",
    "        sys.exit(1)\n",
    "\n",
    "def activate_virtualenv(venv_name):\n",
    "    try:\n",
    "        activate_script = os.path.join(venv_name, \"Scripts\" if os.name == \"nt\" else \"bin\", \"activate\")\n",
    "        subprocess.run([activate_script], shell=True, check=True)\n",
    "        print(f\"Activated virtual environment '{venv_name}'.\")\n",
    "    except subprocess.CalledProcessError as e:\n",
    "        print(f\"Error activating virtual environment: {e}\")\n",
    "        sys.exit(1)\n",
    "\n",
    "def deactivate_virtualenv():\n",
    "    try:\n",
    "        subprocess.run([\"deactivate\"], shell=True, check=True)\n",
    "        print(\"Deactivated virtual environment.\")\n",
    "    except subprocess.CalledProcessError as e:\n",
    "        print(f\"Error deactivating virtual environment: {e}\")\n",
    "        sys.exit(1)\n",
    "\n",
    "def install_package(venv_name, package_name):\n",
    "    try:\n",
    "        subprocess.run([f\"{os.path.join(venv_name, 'Scripts' if os.name == 'nt' else 'bin', 'python')} -m pip install {package_name}\"], shell=True, check=True)\n",
    "        print(f\"Installed '{package_name}' in virtual environment '{venv_name}'.\")\n",
    "    except subprocess.CalledProcessError as e:\n",
    "        print(f\"Error installing package: {e}\")\n",
    "        sys.exit(1)\n",
    "\n",
    "\n",
    "def upgrade_package(venv_name, package_name):\n",
    "    try:\n",
    "        subprocess.run([f\"{os.path.join(venv_name, 'Scripts' if os.name == 'nt' else 'bin', 'python')} -m pip install --upgrade {package_name}\"], shell=True, check=True)\n",
    "        print(f\"Upgraded '{package_name}' in virtual environment '{venv_name}'.\")\n",
    "    except subprocess.CalledProcessError as e:\n",
    "        print(f\"Error upgrading package: {e}\")\n",
    "        sys.exit(1)\n",
    "\n",
    "\n",
    "def uninstall_package(venv_name, package_name):\n",
    "    try:\n",
    "        subprocess.run([f\"{os.path.join(venv_name, 'Scripts' if os.name == 'nt' else 'bin', 'python')} -m pip uninstall -y {package_name}\"], shell=True, check=True)\n",
    "        print(f\"Uninstalled '{package_name}' from virtual environment '{venv_name}'.\")\n",
    "    except subprocess.CalledProcessError as e:\n",
    "        print(f\"Error uninstalling package: {e}\")\n",
    "        sys.exit(1)\n",
    "\n",
    "\n",
    "def list_installed_packages(venv_name):\n",
    "    try:\n",
    "        subprocess.run([f\"{os.path.join(venv_name, 'Scripts' if os.name == 'nt' else 'bin', 'pip')} list\"], shell=True, check=True)\n",
    "    except subprocess.CalledProcessError as e:\n",
    "        print(f\"Error listing installed packages: {e}\")\n",
    "        sys.exit(1)\n",
    "\n",
    "if __name__ == \"__main__\":\n",
    "    venv_name = \"my_virtualenv\"\n",
    "\n",
    "    create_binenv(venv_name)\n",
    "    activate_virtualenv(venv_name)\n",
    "\n",
    "    install_package(venv_name, \"requests\")\n",
    "    list_installed_packages(venv_name)\n",
    "\n",
    "    upgrade_package(venv_name, \"requests\")\n",
    "    list_installed_packages(venv_name)\n",
    "\n",
    "    uninstall_package(venv_name, \"requests\")\n",
    "    list_installed_packages(venv_name)\n",
    "\n",
    "    deactivate_virtualenv()"
   ]
  },
  {
   "cell_type": "markdown",
   "id": "5e870a1a",
   "metadata": {},
   "source": [
    "# 3. Module Dependency Resolution"
   ]
  },
  {
   "cell_type": "code",
   "execution_count": 50,
   "id": "6c085168",
   "metadata": {},
   "outputs": [
    {
     "name": "stdout",
     "output_type": "stream",
     "text": [
      "All dependencies installed successfully.\n"
     ]
    }
   ],
   "source": [
    "import subprocess\n",
    "\n",
    "def installing_moudles():\n",
    "    try:\n",
    "        subprocess.run(['pip', 'install', '-r', 'requirements.txt'])\n",
    "        print(\"All dependencies installed successfully.\")\n",
    "    except subprocess.CalledProcessError as e:\n",
    "        print(f\"Error: Failed to install dependencies. {e}\")\n",
    "\n",
    "if __name__ == \"__main__\":\n",
    "    installing_moudles()\n",
    "    \n"
   ]
  },
  {
   "cell_type": "markdown",
   "id": "f7b0cf7d",
   "metadata": {},
   "source": [
    "# 1.implement inventory management in python with mysql"
   ]
  },
  {
   "cell_type": "code",
   "execution_count": 1,
   "id": "493c0540",
   "metadata": {},
   "outputs": [
    {
     "name": "stdout",
     "output_type": "stream",
     "text": [
      "Requirement already satisfied: mysql in c:\\users\\hp\\anaconda3\\lib\\site-packages (0.0.3)\n",
      "Requirement already satisfied: mysqlclient in c:\\users\\hp\\anaconda3\\lib\\site-packages (from mysql) (2.2.0)\n",
      "Note: you may need to restart the kernel to use updated packages.\n"
     ]
    }
   ],
   "source": [
    "pip install mysql"
   ]
  },
  {
   "cell_type": "code",
   "execution_count": 2,
   "id": "24553590",
   "metadata": {},
   "outputs": [
    {
     "name": "stdout",
     "output_type": "stream",
     "text": [
      "Requirement already satisfied: mysql-connector-python in c:\\users\\hp\\anaconda3\\lib\\site-packages (8.1.0)\n",
      "Requirement already satisfied: protobuf<=4.21.12,>=4.21.1 in c:\\users\\hp\\anaconda3\\lib\\site-packages (from mysql-connector-python) (4.21.12)\n",
      "Note: you may need to restart the kernel to use updated packages.\n"
     ]
    }
   ],
   "source": [
    "pip install mysql-connector-python"
   ]
  },
  {
   "cell_type": "code",
   "execution_count": 3,
   "id": "73c1ce13",
   "metadata": {},
   "outputs": [
    {
     "name": "stdout",
     "output_type": "stream",
     "text": [
      "<mysql.connector.connection_cext.CMySQLConnection object at 0x0000028D3F73CCD0>\n"
     ]
    }
   ],
   "source": [
    "import mysql.connector\n",
    "conn=mysql.connector.connect(user='root',\n",
    "                             password='binus&mysql10',\n",
    "                             host='127.0.0.1',\n",
    "                             database='Inventory'\n",
    "                             )\n",
    "print(conn)"
   ]
  },
  {
   "cell_type": "code",
   "execution_count": 4,
   "id": "302cf215",
   "metadata": {},
   "outputs": [],
   "source": [
    "cursor = conn.cursor()\n",
    "\n",
    "cursor.execute(\"\"\"\n",
    "    CREATE TABLE IF NOT EXISTS Purchases (\n",
    "        id INT  PRIMARY KEY,\n",
    "        product_name VARCHAR(255) NOT NULL,\n",
    "        quantity INT NOT NULL\n",
    "    )\n",
    "\"\"\")\n",
    "\n"
   ]
  },
  {
   "cell_type": "code",
   "execution_count": 5,
   "id": "2049781e",
   "metadata": {},
   "outputs": [],
   "source": [
    "cursor.execute(\"\"\"\n",
    "    CREATE TABLE IF NOT EXISTS Sales (\n",
    "        id INT AUTO_INCREMENT PRIMARY KEY,\n",
    "        product_name VARCHAR(255) NOT NULL,\n",
    "        quantity INT NOT NULL\n",
    "    )\n",
    "\"\"\")\n",
    "\n",
    "cursor.execute(\"\"\"\n",
    "    CREATE TABLE IF NOT EXISTS Inventory (\n",
    "        id INT AUTO_INCREMENT PRIMARY KEY,\n",
    "        product_name VARCHAR(255) NOT NULL,\n",
    "        quantity INT NOT NULL\n",
    "    )\n",
    "\"\"\")"
   ]
  },
  {
   "cell_type": "code",
   "execution_count": 6,
   "id": "564c2fe0",
   "metadata": {},
   "outputs": [
    {
     "name": "stdout",
     "output_type": "stream",
     "text": [
      "('inventory',)\n",
      "('purchases',)\n",
      "('sales',)\n"
     ]
    }
   ],
   "source": [
    "cursor.execute('show tables')\n",
    "for i in cursor:\n",
    "    print(i)"
   ]
  },
  {
   "cell_type": "code",
   "execution_count": 7,
   "id": "a2d333d7",
   "metadata": {},
   "outputs": [],
   "source": [
    "insert_query = \"\"\"\n",
    "        INSERT INTO Inventory (product_name, quantity)\n",
    "        VALUES (%s, %s)\n",
    "        \"\"\"\n",
    "data = (\"books\", 20)\n",
    "cursor.execute(insert_query,data)\n",
    "data = (\"pens\", 200)\n",
    "cursor.execute(insert_query, data)\n",
    "data = (\"refill\", 2000)\n",
    "cursor.execute(insert_query, data)"
   ]
  },
  {
   "cell_type": "code",
   "execution_count": 10,
   "id": "b51dea7e",
   "metadata": {},
   "outputs": [
    {
     "name": "stdout",
     "output_type": "stream",
     "text": [
      "Product Name: books, Quantity: 20\n",
      "Product Name: books, Quantity: 20\n",
      "Product Name: pens, Quantity: 200\n",
      "Product Name: refill, Quantity: 2000\n",
      "Product Name: books, Quantity: 20\n",
      "Product Name: pens, Quantity: 200\n",
      "Product Name: refill, Quantity: 2000\n"
     ]
    }
   ],
   "source": [
    "\n",
    "select_query = \"\"\"\n",
    "    SELECT product_name, quantity\n",
    "    FROM Inventory\n",
    "    \"\"\"\n",
    "cursor.execute(select_query)\n",
    "inventory_data = cursor.fetchall()\n",
    "\n",
    "for row in inventory_data:\n",
    "    product_name, quantity = row\n",
    "    print(f\"Product Name: {product_name}, Quantity: {quantity}\")\n",
    "\n"
   ]
  },
  {
   "cell_type": "markdown",
   "id": "1700df02",
   "metadata": {},
   "source": [
    "# 2.Customer order processing scenerio"
   ]
  },
  {
   "cell_type": "code",
   "execution_count": null,
   "id": "01d5c8a7",
   "metadata": {},
   "outputs": [],
   "source": [
    "import mysql.connector\n",
    "\n",
    "db = mysql.connector.connect(host='127.0.0.1', user='root', password='binus&mysql10', database='order_processing')\n",
    "\n",
    "customer_id = int(input('Enter your customer ID: '))\n",
    "customer_name = input('Enter your name: ')\n",
    "\n",
    "\n",
    "products = []\n",
    "while True:\n",
    "    product_id = int(input('Enter the product ID: '))\n",
    "    quantity = int(input('Enter the quantity: '))\n",
    "\n",
    "    product = {\n",
    "        'product_id': product_id,\n",
    "        'quantity': quantity\n",
    "    }\n",
    "    products.append(product)\n",
    "\n",
    "    if input('Do you want to add more products? (y/n): ') != 'y':\n",
    "        break\n",
    "\n",
    "total_cost = 0\n",
    "for product in products:\n",
    "    cursor = db.cursor()\n",
    "    cursor.execute('SELECT price FROM products WHERE product_id = %s', (product['product_id'],))\n",
    "\n",
    "   \n",
    "    if cursor.fetchone() is not None:\n",
    "         print(cursor.fetchone())\n",
    "      \n",
    "    else:\n",
    "        \n",
    "        print('The product with ID {} is no longer available.'.format(product['product_id']))\n",
    "\n",
    "\n",
    "cursor = db.cursor()\n",
    "cursor.execute('INSERT INTO orders (customer_id, total_cost) VALUES (%s, %s)', (customer_id, total_cost))\n",
    "db.commit()\n",
    "\n",
    "\n",
    "for product in products:\n",
    "    cursor = db.cursor()\n",
    "    cursor.execute('INSERT INTO order_details (order_id, product_id, quantity) VALUES (%s, %s, %s)',\n",
    "                   (cursor.lastrowid, product['product_id'], product['quantity']))\n",
    "db.commit()\n",
    "\n",
    "db.close()\n",
    "\n",
    "print('Your order has been placed successfully!')\n"
   ]
  },
  {
   "cell_type": "markdown",
   "id": "925e297a",
   "metadata": {},
   "source": [
    "# 3.You are tasked with developing a Python program that connects to a MySQL database, retrieves data from a table, performs some operations on the data, and updates the database with the modified data. Please write Python code to accomplish this task."
   ]
  },
  {
   "cell_type": "code",
   "execution_count": 32,
   "id": "80b3213c",
   "metadata": {},
   "outputs": [
    {
     "name": "stdout",
     "output_type": "stream",
     "text": [
      "Records inserted successfully.\n"
     ]
    }
   ],
   "source": [
    "import mysql.connector\n",
    "\n",
    "\n",
    "db_config = {\n",
    "    \"host\": \"localhost\",\n",
    "    \"port\": 3306,\n",
    "    \"user\": 'root',\n",
    "    \"password\":'binus&mysql10',\n",
    "    \"database\": \"your_database\",\n",
    "}\n",
    "\n",
    "try:\n",
    "    connection = mysql.connector.connect(**db_config)\n",
    "    \n",
    "    cursor = connection.cursor()\n",
    "    \n",
    "    data_to_insert = [\n",
    "        (1, \"Item 1\", 10),\n",
    "        (2, \"Item 2\", 20),\n",
    "        (3, \"Item 3\", 30),\n",
    "        (4, \"Item 4\", 40),\n",
    "        (5, \"Item 5\", 50),\n",
    "    ]\n",
    "    \n",
    "    insert_query = \"INSERT INTO your_table (id, name, quantity) VALUES (%s, %s, %s)\"\n",
    "    cursor.executemany(insert_query, data_to_insert)\n",
    "\n",
    "    connection.commit()\n",
    "    \n",
    "    print(\"Records inserted successfully.\")\n",
    "    \n",
    "except mysql.connector.Error as err:\n",
    "    print(f\"Error: {err}\")\n",
    "finally:\n",
    "    \n",
    "    if connection.is_connected():\n",
    "        cursor.close()\n",
    "        connection.close()\n"
   ]
  },
  {
   "cell_type": "code",
   "execution_count": 33,
   "id": "8fe4c159",
   "metadata": {},
   "outputs": [
    {
     "name": "stdout",
     "output_type": "stream",
     "text": [
      "Database update successful.\n",
      "Total quantity before update: 150\n",
      "Total quantity after update: 300\n"
     ]
    }
   ],
   "source": [
    "import mysql.connector\n",
    "\n",
    "db_config = {\n",
    "    \"host\": \"localhost\",\n",
    "    \"port\": 3306,\n",
    "    \"user\": 'root',\n",
    "    \"password\":'binus&mysql10',\n",
    "    \"database\": \"your_database\",\n",
    "}\n",
    "\n",
    "try:\n",
    "\n",
    "    connection = mysql.connector.connect(**db_config)\n",
    "    cursor = connection.cursor()\n",
    "    cursor.execute(\"SELECT id, name, quantity FROM your_table\")\n",
    "    records = cursor.fetchall()\n",
    "    total_quantity = sum(record[2] for record in records)\n",
    "    \n",
    "    for record in records:\n",
    "        new_quantity = record[2] * 2\n",
    "        cursor.execute(\"UPDATE your_table SET quantity = %s WHERE id = %s\", (new_quantity, record[0]))\n",
    "    \n",
    "   \n",
    "    connection.commit()\n",
    "    \n",
    "    \n",
    "    cursor.close()\n",
    "    connection.close()\n",
    "    \n",
    "    print(\"Database update successful.\")\n",
    "    print(f\"Total quantity before update: {total_quantity}\")\n",
    "    print(f\"Total quantity after update: {total_quantity * 2}\")\n",
    "    \n",
    "except mysql.connector.Error as err:\n",
    "    print(f\"Error: {err}\")\n",
    "finally:\n",
    "    if connection.is_connected():\n",
    "        connection.close()\n"
   ]
  },
  {
   "cell_type": "markdown",
   "id": "8c89d36d",
   "metadata": {},
   "source": [
    "# 4. You are developing an employee management system for a company. The database should store employee information, including name, salary, department, and hire date. Managers should be able to view and update employee details."
   ]
  },
  {
   "cell_type": "code",
   "execution_count": 41,
   "id": "63f908a7",
   "metadata": {},
   "outputs": [
    {
     "name": "stdout",
     "output_type": "stream",
     "text": [
      "10 records added to the employees table successfully.\n"
     ]
    }
   ],
   "source": [
    "import mysql.connector\n",
    "from mysql.connector import Error\n",
    "\n",
    "db_config = {\n",
    "    \"host\": \"localhost\",\n",
    "    \"port\": 3306,\n",
    "    \"user\": 'root',\n",
    "    \"password\":'binus&mysql10',\n",
    "    \"database\": \"your_database\",\n",
    "}    \n",
    "\n",
    "\n",
    "employees_data = [\n",
    "    (\"John Doe\", 55000.00, \"Engineering\", \"2023-01-15\"),\n",
    "    (\"Jane Smith\", 60000.00, \"Marketing\", \"2022-11-20\"),\n",
    "    (\"Michael Johnson\", 62000.00, \"Sales\", \"2022-09-05\"),\n",
    "    (\"Emily Davis\", 58000.00, \"Engineering\", \"2023-03-10\"),\n",
    "    (\"Robert Wilson\", 56000.00, \"Marketing\", \"2022-12-02\"),\n",
    "    (\"Sarah Lee\", 59000.00, \"Sales\", \"2023-02-18\"),\n",
    "    (\"David Brown\", 57000.00, \"Engineering\", \"2022-10-25\"),\n",
    "    (\"Jessica White\", 61000.00, \"Marketing\", \"2022-08-15\"),\n",
    "    (\"James Taylor\", 63000.00, \"Sales\", \"2023-04-05\"),\n",
    "    (\"Olivia Hall\", 54000.00, \"Engineering\", \"2023-05-20\"),\n",
    "]\n",
    "\n",
    "try:\n",
    "\n",
    "    connection = mysql.connector.connect(**db_config)\n",
    "\n",
    "   \n",
    "    cursor = connection.cursor()\n",
    "\n",
    "\n",
    "    insert_query = \"\"\"\n",
    "    INSERT INTO employees (name, salary, department, hire_date)\n",
    "    VALUES (%s, %s, %s, %s)\n",
    "    \"\"\"\n",
    "    cursor.executemany(insert_query, employees_data)\n",
    "    \n",
    "    connection.commit()\n",
    "\n",
    "    print(\"10 records added to the employees table successfully.\")\n",
    "\n",
    "except mysql.connector.Error as err:\n",
    "    print(f\"Error: {err}\")\n",
    "finally:\n",
    "    \n",
    "    if connection.is_connected():\n",
    "        cursor.close()\n",
    "        connection.close()\n"
   ]
  },
  {
   "cell_type": "code",
   "execution_count": 42,
   "id": "8483a8aa",
   "metadata": {},
   "outputs": [
    {
     "name": "stdout",
     "output_type": "stream",
     "text": [
      "Employees in the Engineering department:\n",
      "ID: 1, Name: John Doe, Salary: 55000.00, Hire Date: 2023-01-15\n",
      "ID: 4, Name: Emily Davis, Salary: 58000.00, Hire Date: 2023-03-10\n",
      "ID: 7, Name: David Brown, Salary: 57000.00, Hire Date: 2022-10-25\n",
      "ID: 10, Name: Olivia Hall, Salary: 54000.00, Hire Date: 2023-05-20\n"
     ]
    }
   ],
   "source": [
    "import mysql.connector\n",
    "\n",
    "\n",
    "db_config = {\n",
    "    \"host\": \"localhost\",\n",
    "    \"port\": 3306,\n",
    "    \"user\": 'root',\n",
    "    \"password\":'binus&mysql10',\n",
    "    \"database\": \"your_database\",\n",
    "}\n",
    "\n",
    "department_to_query = \"Engineering\" \n",
    "try:\n",
    " \n",
    "    connection = mysql.connector.connect(**db_config)\n",
    "\n",
    "    cursor = connection.cursor()\n",
    "\n",
    "  \n",
    "    query = \"SELECT id, name, salary, hire_date FROM employees WHERE department = %s\"\n",
    "    cursor.execute(query, (department_to_query,))\n",
    "    \n",
    "\n",
    "    employees = cursor.fetchall()\n",
    "\n",
    "    if employees:\n",
    "        print(f\"Employees in the {department_to_query} department:\")\n",
    "        for employee in employees:\n",
    "            print(f\"ID: {employee[0]}, Name: {employee[1]}, Salary: {employee[2]}, Hire Date: {employee[3]}\")\n",
    "    else:\n",
    "        print(f\"No employees found in the {department_to_query} department.\")\n",
    "\n",
    "except mysql.connector.Error as err:\n",
    "    print(f\"Error: {err}\")\n",
    "finally:\n",
    "    \n",
    "    if connection.is_connected():\n",
    "        cursor.close()\n",
    "        connection.close()\n"
   ]
  },
  {
   "cell_type": "code",
   "execution_count": 43,
   "id": "510cfcea",
   "metadata": {},
   "outputs": [
    {
     "name": "stdout",
     "output_type": "stream",
     "text": [
      "Salary updated successfully for employee with ID 1.\n"
     ]
    }
   ],
   "source": [
    "employee_id_to_update = 1 \n",
    "new_salary = 60000.00 \n",
    "\n",
    "try:\n",
    "    \n",
    "    connection = mysql.connector.connect(**db_config)\n",
    "\n",
    "    \n",
    "    cursor = connection.cursor()\n",
    "\n",
    "    \n",
    "    update_query = \"UPDATE employees SET salary = %s WHERE id = %s\"\n",
    "    cursor.execute(update_query, (new_salary, employee_id_to_update))\n",
    "    \n",
    "    \n",
    "    connection.commit()\n",
    "\n",
    "    if cursor.rowcount > 0:\n",
    "        print(f\"Salary updated successfully for employee with ID {employee_id_to_update}.\")\n",
    "    else:\n",
    "        print(f\"No employee found with ID {employee_id_to_update}.\")\n",
    "\n",
    "except mysql.connector.Error as err:\n",
    "    print(f\"Error: {err}\")\n",
    "finally:\n",
    "   \n",
    "    if connection.is_connected():\n",
    "        cursor.close()\n",
    "        connection.close()\n"
   ]
  }
 ],
 "metadata": {
  "kernelspec": {
   "display_name": "Python 3 (ipykernel)",
   "language": "python",
   "name": "python3"
  },
  "language_info": {
   "codemirror_mode": {
    "name": "ipython",
    "version": 3
   },
   "file_extension": ".py",
   "mimetype": "text/x-python",
   "name": "python",
   "nbconvert_exporter": "python",
   "pygments_lexer": "ipython3",
   "version": "3.9.12"
  }
 },
 "nbformat": 4,
 "nbformat_minor": 5
}
