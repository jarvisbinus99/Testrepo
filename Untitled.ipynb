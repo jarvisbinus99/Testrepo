{
 "cells": [
  {
   "cell_type": "markdown",
   "id": "6effe3be",
   "metadata": {},
   "source": [
    "# 1. Write a python program with Exception handling to input marks for five subjects Physics,Chemistry, Biology, Mathematics, and Computer. Calculate the percentage and grade accordingto the following:\n"
   ]
  },
  {
   "cell_type": "code",
   "execution_count": null,
   "id": "bcd10e7d",
   "metadata": {},
   "outputs": [],
   "source": [
    "try:\n",
    "    # Input marks for five subjects\n",
    "    physics = float(input(\"Enter Physics marks: \"))\n",
    "    chemistry = float(input(\"Enter Chemistry marks: \"))\n",
    "    biology = float(input(\"Enter Biology marks: \"))\n",
    "    mathematics = float(input(\"Enter Mathematics marks: \"))\n",
    "    computer = float(input(\"Enter Computer marks: \"))\n",
    "    if (\n",
    "        0 <= physics <= 100\n",
    "        and 0 <= chemistry <= 100\n",
    "        and 0 <= biology <= 100\n",
    "        and 0 <= mathematics <= 100\n",
    "        and 0 <= computer <= 100\n",
    "    ):\n",
    "        \n",
    "        total_marks = physics + chemistry + biology + mathematics + computer\n",
    "        percentage = (total_marks / 500) * 100\n",
    "        \n",
    "        if percentage >= 90:\n",
    "            grade = \"A\"\n",
    "        elif percentage >= 80:\n",
    "            grade = \"B\"\n",
    "        elif percentage >= 70:\n",
    "            grade = \"C\"\n",
    "        elif percentage >= 60:\n",
    "            grade = \"D\"\n",
    "        elif percentage >= 40:\n",
    "            grade = \"E\"\n",
    "        else:\n",
    "            grade = \"F\"\n",
    "\n",
    "        # Display the result\n",
    "        print(f\"Percentage: {percentage:.2f}%\")\n",
    "        print(f\"Grade: {grade}\")\n",
    "\n",
    "    else:\n",
    "        print(\"Invalid input! Marks should be in the range of 0 to 100.\")\n",
    "\n",
    "except ValueError:\n",
    "    print(\"Invalid input! Please enter valid numeric values for marks.\")\n",
    "except Exception as e:\n",
    "    print(f\"An error occurred: {str(e)}\")\n"
   ]
  },
  {
   "cell_type": "markdown",
   "id": "01222da7",
   "metadata": {},
   "source": [
    "# 2. Write a python program with Exception handling to input electricity unit charges and calculate the total electricity bill according to the given condition:"
   ]
  },
  {
   "cell_type": "code",
   "execution_count": null,
   "id": "1a98cc51",
   "metadata": {},
   "outputs": [],
   "source": [
    "try:\n",
    "    units = float(input(\"Enter the electricity units consumed: \"))\n",
    "\n",
    "    if units >= 0:\n",
    "        if units <= 50:\n",
    "            total_bill = units * 0.50\n",
    "        elif units <= 150:\n",
    "            total_bill = (50 * 0.50) + ((units - 50) * 0.75)\n",
    "        elif units <= 250:\n",
    "            total_bill = (50 * 0.50) + (100 * 0.75) + ((units - 150) * 1.20)\n",
    "        else:\n",
    "            total_bill = (50 * 0.50) + (100 * 0.75) + (100 * 1.20) + ((units - 250) * 1.50)\n",
    "\n",
    "        total_bill_with_surcharge = total_bill + (0.20 * total_bill)\n",
    "\n",
    "        print(f\"Total electricity bill (including 20% surcharge): Rs. {total_bill_with_surcharge:.2f}\")\n",
    "\n",
    "    else:\n",
    "        print(\"Invalid input! Units should be a positive number.\")\n",
    "\n",
    "except ValueError:\n",
    "    print(\"Invalid input! Please enter a valid numeric value for units.\")\n",
    "except Exception as e:\n",
    "    print(f\"An error occurred: {str(e)}\")\n"
   ]
  },
  {
   "cell_type": "markdown",
   "id": "db015f8a",
   "metadata": {},
   "source": [
    "# 3. Write a python program with Exception handling to input the week number and print the weekday."
   ]
  },
  {
   "cell_type": "code",
   "execution_count": null,
   "id": "96339827",
   "metadata": {},
   "outputs": [],
   "source": [
    "try:\n",
    "    # Input the week number\n",
    "    week_number = int(input(\"Enter the week number (1-7): \"))\n",
    "\n",
    "    # Ensure the week number is within the valid range (1-7)\n",
    "    if 1 <= week_number <= 7:\n",
    "        # Define a list of weekdays\n",
    "        weekdays = [\"Monday\", \"Tuesday\", \"Wednesday\", \"Thursday\", \"Friday\", \"Saturday\", \"Sunday\"]\n",
    "\n",
    "        # Print the corresponding weekday\n",
    "        weekday = weekdays[week_number - 1]\n",
    "        print(f\"Weekday for week number {week_number} is {weekday}\")\n",
    "    else:\n",
    "        print(\"Invalid input! Week number should be between 1 and 7.\")\n",
    "\n",
    "except ValueError:\n",
    "    print(\"Invalid input! Please enter a valid numeric value for the week number.\")\n",
    "except Exception as e:\n",
    "    print(f\"An error occurred: {str(e)}\")\n"
   ]
  },
  {
   "cell_type": "markdown",
   "id": "d5e04ebb",
   "metadata": {},
   "source": [
    "# 4. Write a Python program to implement word count using command line arguments."
   ]
  },
  {
   "cell_type": "code",
   "execution_count": 1,
   "id": "292378ce",
   "metadata": {},
   "outputs": [
    {
     "name": "stdout",
     "output_type": "stream",
     "text": [
      "Usage: python wordcount.py <filename>\n"
     ]
    }
   ],
   "source": [
    "# wordcount.py\n",
    "\n",
    "def count_words(filename):\n",
    "    word_counts = {}\n",
    "    \n",
    "    try:\n",
    "        with open(filename, 'r') as file:\n",
    "            # Read the contents of the file\n",
    "            text = file.read().lower()\n",
    "            \n",
    "            # Split the text into words\n",
    "            words = text.split()\n",
    "            \n",
    "            # Count the frequency of each word\n",
    "            for word in words:\n",
    "                if word in word_counts:\n",
    "                    word_counts[word] += 1\n",
    "                else:\n",
    "                    word_counts[word] = 1\n",
    "                \n",
    "            return word_counts\n",
    "            \n",
    "    except FileNotFoundError:\n",
    "        print(f\"File '{filename}' not found.\")\n",
    "        return None\n",
    "    except Exception as e:\n",
    "        print(f\"An error occurred: {str(e)}\")\n",
    "        return None\n",
    "\n",
    "if __name__ == \"__main__\":\n",
    "    import sys\n",
    "    \n",
    "    if len(sys.argv) != 2:\n",
    "        print(\"Usage: python wordcount.py <filename>\")\n",
    "    else:\n",
    "        filename = sys.argv[1]\n",
    "        word_counts = count_words(filename)\n",
    "        \n",
    "        if word_counts:\n",
    "            for word, count in word_counts.items():\n",
    "                print(f\"{word}: {count}\")\n"
   ]
  },
  {
   "cell_type": "code",
   "execution_count": 2,
   "id": "463898f5",
   "metadata": {},
   "outputs": [
    {
     "ename": "ModuleNotFoundError",
     "evalue": "No module named 'wordcount'",
     "output_type": "error",
     "traceback": [
      "\u001b[1;31m---------------------------------------------------------------------------\u001b[0m",
      "\u001b[1;31mModuleNotFoundError\u001b[0m                       Traceback (most recent call last)",
      "Input \u001b[1;32mIn [2]\u001b[0m, in \u001b[0;36m<cell line: 3>\u001b[1;34m()\u001b[0m\n\u001b[0;32m      1\u001b[0m \u001b[38;5;66;03m# command.py\u001b[39;00m\n\u001b[1;32m----> 3\u001b[0m \u001b[38;5;28;01mimport\u001b[39;00m \u001b[38;5;21;01mwordcount\u001b[39;00m\n\u001b[0;32m      5\u001b[0m \u001b[38;5;28;01mif\u001b[39;00m \u001b[38;5;18m__name__\u001b[39m \u001b[38;5;241m==\u001b[39m \u001b[38;5;124m\"\u001b[39m\u001b[38;5;124m__main__\u001b[39m\u001b[38;5;124m\"\u001b[39m:\n\u001b[0;32m      6\u001b[0m     \u001b[38;5;28;01mimport\u001b[39;00m \u001b[38;5;21;01msys\u001b[39;00m\n",
      "\u001b[1;31mModuleNotFoundError\u001b[0m: No module named 'wordcount'"
     ]
    }
   ],
   "source": [
    "# command.py\n",
    "\n",
    "import wordcount\n",
    "\n",
    "if __name__ == \"__main__\":\n",
    "    import sys\n",
    "    \n",
    "    if len(sys.argv) != 2:\n",
    "        print(\"Usage: python command.py <filename>\")\n",
    "    else:\n",
    "        filename = sys.argv[1]\n",
    "        word_counts = wordcount.count_words(filename)\n",
    "        \n",
    "        if word_counts:\n",
    "            for word, count in word_counts.items():\n",
    "                print(f\"{word}: {count}\")\n"
   ]
  },
  {
   "cell_type": "code",
   "execution_count": null,
   "id": "3054f2cc",
   "metadata": {},
   "outputs": [],
   "source": []
  }
 ],
 "metadata": {
  "kernelspec": {
   "display_name": "Python 3 (ipykernel)",
   "language": "python",
   "name": "python3"
  },
  "language_info": {
   "codemirror_mode": {
    "name": "ipython",
    "version": 3
   },
   "file_extension": ".py",
   "mimetype": "text/x-python",
   "name": "python",
   "nbconvert_exporter": "python",
   "pygments_lexer": "ipython3",
   "version": "3.9.12"
  }
 },
 "nbformat": 4,
 "nbformat_minor": 5
}
