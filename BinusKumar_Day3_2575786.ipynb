{
 "cells": [
  {
   "cell_type": "markdown",
   "id": "2948a9f1",
   "metadata": {},
   "source": [
    "# 1.Write a python function that copies a file reading and writing up to 50 characters at a time."
   ]
  },
  {
   "cell_type": "code",
   "execution_count": 10,
   "id": "a0050e2d",
   "metadata": {},
   "outputs": [
    {
     "name": "stdout",
     "output_type": "stream",
     "text": [
      "File copied successfully!\n"
     ]
    }
   ],
   "source": [
    "def copy_file(inp_file, out_file, word_size=50):\n",
    "    try:\n",
    "        with open(inp_file, 'rb') as inp_file, open(out_file, 'wb') as out_file:\n",
    "            while True:\n",
    "                word = inp_file.read(word_size)\n",
    "                if not word:\n",
    "                    break\n",
    "                out_file.write(word)\n",
    "    except FileNotFoundError:\n",
    "        print(\"Error: File not found.\")\n",
    "    except Exception as e:\n",
    "        print(f\"An error occurred: {e}\")\n",
    "inp_file = r\"C:\\Users\\hp\\Desktop\\practice exercises\\Python-S1\\iFile.txt\"\n",
    "out_file = 'oFile.txt'\n",
    "copy_file(inp_file, out_file)\n",
    "print(\"File copied successfully!\")"
   ]
  },
  {
   "cell_type": "markdown",
   "id": "0ab00960",
   "metadata": {},
   "source": [
    "# 2.Print all numbers present in the text file and print the number of blank spaces in that file."
   ]
  },
  {
   "cell_type": "code",
   "execution_count": 12,
   "id": "e5c9688a",
   "metadata": {},
   "outputs": [
    {
     "name": "stdout",
     "output_type": "stream",
     "text": [
      "Numbers in the file:\n",
      "1\n",
      "6\n",
      "7\n",
      "8\n",
      "6\n",
      "9\n",
      "10\n",
      "6\n",
      "11\n",
      "12\n",
      "20\n",
      "10\n",
      "2023\n",
      "09\n",
      "13\n",
      "10\n",
      "30\n",
      "00\n",
      "12345\n",
      "2023\n",
      "09\n",
      "13\n",
      "11\n",
      "15\n",
      "00\n",
      "56789\n",
      "2023\n",
      "09\n",
      "13\n",
      "12\n",
      "00\n",
      "00\n",
      "12345\n",
      "2023\n",
      "09\n",
      "13\n",
      "12\n",
      "30\n",
      "00\n",
      "98765\n",
      "2023\n",
      "09\n",
      "13\n",
      "13\n",
      "45\n",
      "00\n",
      "12345\n",
      "Number of blank spaces in the file: 153\n"
     ]
    }
   ],
   "source": [
    "import re\n",
    "\n",
    "def num_blnk_cnt(file_path):\n",
    "    try:\n",
    "        with open(file_path, 'r') as file:\n",
    "            content = file.read()\n",
    "            \n",
    "            # Use regular expression to find all numbers in the file\n",
    "            numbers = re.findall(r'\\d+', content)\n",
    "            \n",
    "            # Count the number of blank spaces\n",
    "            blnk_cnt = content.count(' ')\n",
    "            \n",
    "            print(\"Numbers in the file:\")\n",
    "            for number in numbers:\n",
    "                print(number)\n",
    "            \n",
    "            print(f\"Number of blank spaces in the file: {blnk_cnt}\")\n",
    "    \n",
    "    except FileNotFoundError:\n",
    "        print(\"Error: File not found.\")\n",
    "    except Exception as e:\n",
    "        print(f\"An error occurred: {e}\")\n",
    "\n",
    "\n",
    "file_path =r\"C:\\Users\\hp\\Desktop\\practice exercises\\Python-S1\\num.txt\"\n",
    "num_blnk_cnt(file_path)"
   ]
  },
  {
   "cell_type": "markdown",
   "id": "099437ae",
   "metadata": {},
   "source": [
    "# 3.Write a function called sed that takes as arguments a pattern string, a replacement string,and two filenames; it should read the first file and write the contents into the second file(creating it if necessary). If the pattern string appears anywhere in the file, it should bereplaced with the replacement string. If an error occurs while opening, reading, writing,or closing files, your program should catch the exception, print an error message, andexit."
   ]
  },
  {
   "cell_type": "code",
   "execution_count": 13,
   "id": "4ca95b64",
   "metadata": {},
   "outputs": [
    {
     "name": "stdout",
     "output_type": "stream",
     "text": [
      "Text replacement completed successfully.\n"
     ]
    }
   ],
   "source": [
    "def sed(pattern, replacement, input_file, output_file):\n",
    "    try:\n",
    "        with open(input_file, 'r') as infile, open(output_file, 'w') as outfile:\n",
    "            for line in infile:\n",
    "                modified_line = line.replace(pattern, replacement)\n",
    "                outfile.write(modified_line)\n",
    "    \n",
    "    except FileNotFoundError:\n",
    "        print(\"Error: Input file not found.\")\n",
    "    except Exception as e:\n",
    "        print(f\"An error occurred: {e}\")\n",
    "    else:\n",
    "        print(\"Text replacement completed successfully.\")\n",
    "\n",
    "pattern = \"Bateman\"\n",
    "replacement = \"Jason\"\n",
    "input_file = r\"C:\\Users\\hp\\Desktop\\practice exercises\\Python-S1\\replace.txt\"\n",
    "output_file = \"Repilca.txt\"\n",
    "\n",
    "sed(pattern, replacement, input_file, output_file)\n"
   ]
  },
  {
   "cell_type": "markdown",
   "id": "b5e7a15f",
   "metadata": {},
   "source": [
    "# 4.Log File Analysis: You have a log file containing records of user activities on a website.Each line in the file represents a log entry with details like timestamp, user ID, and actionperformed. Your task is to analyze this log file.a. Write Python code to read the log file and extract specific information, such as thenumber of unique users or the most common action.b. How would you handle large log files efficiently without loading the entire fileinto memory?"
   ]
  },
  {
   "cell_type": "code",
   "execution_count": 15,
   "id": "6470df13",
   "metadata": {},
   "outputs": [
    {
     "name": "stdout",
     "output_type": "stream",
     "text": [
      "Number of unique users: 4\n",
      "Most common action: view_page\n"
     ]
    }
   ],
   "source": [
    "from collections import Counter\n",
    "\n",
    "def analyze_log_file(log_file_path):\n",
    "    try:\n",
    "        with open(log_file_path, 'r') as log_file:\n",
    "            lines = log_file.readlines()\n",
    "\n",
    "        # Extract information from log entries\n",
    "        user_ids = []\n",
    "        actions = []\n",
    "\n",
    "        for line in lines:\n",
    "            parts = line.strip().split(',')\n",
    "            if len(parts) >= 3:\n",
    "                user_ids.append(parts[1])\n",
    "                actions.append(parts[2])\n",
    "\n",
    "        # Calculate the number of unique users\n",
    "        unique_users = len(set(user_ids))\n",
    "\n",
    "        # Find the most common action\n",
    "        most_common_action = Counter(actions).most_common(1)[0][0]\n",
    "\n",
    "        print(f\"Number of unique users: {unique_users}\")\n",
    "        print(f\"Most common action: {most_common_action}\")\n",
    "\n",
    "    except FileNotFoundError:\n",
    "        print(\"Error: Log file not found.\")\n",
    "    except Exception as e:\n",
    "        print(f\"An error occurred: {e}\")\n",
    "\n",
    "# Example usage:\n",
    "log_file_path =r\"C:\\Users\\hp\\Downloads\\sample.log\" \n",
    "analyze_log_file(log_file_path)\n"
   ]
  },
  {
   "cell_type": "markdown",
   "id": "d56e21e0",
   "metadata": {},
   "source": [
    "# 5.Text File Search and Replace: You have a text file with a large amount of text, and you want to search for specific words or phrases and replace them with new content.a. Write Python code to search for and replace text within a text file.b. How would you handle cases where you need to perform multiple replacements ina single pass?\n"
   ]
  },
  {
   "cell_type": "code",
   "execution_count": 1,
   "id": "1dabd5b1",
   "metadata": {},
   "outputs": [
    {
     "name": "stdout",
     "output_type": "stream",
     "text": [
      "Search and replace completed in C:\\Users\\hp\\Desktop\\practice exercises\\Python-S1\\replace.txt\n"
     ]
    }
   ],
   "source": [
    "def search_replace_in_file(file_path, search_text, replace_text):\n",
    "    try:\n",
    "        with open(file_path, 'r') as file:\n",
    "            file_content = file.read()\n",
    "\n",
    "        updated_content = file_content.replace(search_text, replace_text)\n",
    "\n",
    "        with open(file_path, 'w') as file:\n",
    "            file.write(updated_content)\n",
    "\n",
    "        print(f\"Search and replace completed in {file_path}\")\n",
    "    except FileNotFoundError:\n",
    "        print(f\"File not found: {file_path}\")\n",
    "    except Exception as e:\n",
    "        print(f\"An error occurred: {str(e)}\")\n",
    "\n",
    "file_path =  r\"C:\\Users\\hp\\Desktop\\practice exercises\\Python-S1\\replace.txt\"\n",
    "search_text = \"Bateman\"\n",
    "replace_text =  \"Jason\"\n",
    "search_replace_in_file(file_path, search_text, replace_text)\n"
   ]
  },
  {
   "cell_type": "code",
   "execution_count": 2,
   "id": "5bd13881",
   "metadata": {},
   "outputs": [
    {
     "name": "stdout",
     "output_type": "stream",
     "text": [
      "Search and replace completed in C:\\Users\\hp\\Desktop\\practice exercises\\Python-S1\\replace.txt\n"
     ]
    }
   ],
   "source": [
    "def search_replace_in_file(file_path, search_replace_list):\n",
    "    try:\n",
    "        with open(file_path, 'r') as file:\n",
    "            file_content = file.read()\n",
    "\n",
    "        for search_text, replace_text in search_replace_list:\n",
    "            file_content = file_content.replace(search_text, replace_text)\n",
    "\n",
    "        with open(file_path, 'w') as file:\n",
    "            file.write(file_content)\n",
    "\n",
    "        print(f\"Search and replace completed in {file_path}\")\n",
    "    except FileNotFoundError:\n",
    "        print(f\"File not found: {file_path}\")\n",
    "    except Exception as e:\n",
    "        print(f\"An error occurred: {str(e)}\")\n",
    "\n",
    "file_path = r\"C:\\Users\\hp\\Desktop\\practice exercises\\Python-S1\\replace.txt\"\n",
    "search_replace_list = [\n",
    "    (\"Bateman\", \"Jason\"),\n",
    "    (\"is\", \"are\"),\n",
    "]\n",
    "search_replace_in_file(file_path, search_replace_list)\n"
   ]
  },
  {
   "cell_type": "markdown",
   "id": "f609e781",
   "metadata": {},
   "source": [
    "# 6.Write a Python script that concatenates the contents of multiple text files into a single output file. Allow the user to specify the input files and the output file."
   ]
  },
  {
   "cell_type": "code",
   "execution_count": 3,
   "id": "37bc037a",
   "metadata": {},
   "outputs": [
    {
     "name": "stdout",
     "output_type": "stream",
     "text": [
      "Enter an input file path (leave empty to finish): C:\\Users\\hp\\Desktop\\practice exercises\\Python-S1\\replace.txt\n",
      "Enter an input file path (leave empty to finish): C:\\Users\\hp\\Downloads\\sample.log\n",
      "Enter an input file path (leave empty to finish): \n",
      "Enter the output file path: C:\\Users\\hp\\Desktop\\practice exercises\\Python-S1\\num.txt\n",
      "Concatenated 2 files into C:\\Users\\hp\\Desktop\\practice exercises\\Python-S1\\num.txt\n"
     ]
    }
   ],
   "source": [
    "def concatenate_files(input_files, output_file):\n",
    "    try:\n",
    "        with open(output_file, 'w') as output:\n",
    "            for input_file in input_files:\n",
    "                with open(input_file, 'r') as input:\n",
    "                    output.write(input.read())\n",
    "                output.write('\\n')  # Add a newline between file contents\n",
    "\n",
    "        print(f\"Concatenated {len(input_files)} files into {output_file}\")\n",
    "    except FileNotFoundError:\n",
    "        print(\"One or more input files not found.\")\n",
    "    except Exception as e:\n",
    "        print(f\"An error occurred: {str(e)}\")\n",
    "\n",
    "if __name__ == \"__main__\":\n",
    "    input_files = []\n",
    "    \n",
    "    while True:\n",
    "        file_path = input(\"Enter an input file path (leave empty to finish): \")\n",
    "        if not file_path:\n",
    "            break\n",
    "        input_files.append(file_path)\n",
    "\n",
    "    if len(input_files) == 0:\n",
    "        print(\"No input files specified.\")\n",
    "    else:\n",
    "        output_file = input(\"Enter the output file path: \")\n",
    "        concatenate_files(input_files, output_file)\n"
   ]
  },
  {
   "cell_type": "markdown",
   "id": "0f5f9ae9",
   "metadata": {},
   "source": [
    "# 7. You are given a text file named input.txt containing a list of words, one word per line. Your task is to create a Python program that reads the contents of input.txt, processes thewords, and writes the result to an output file named output.txt."
   ]
  },
  {
   "cell_type": "code",
   "execution_count": 6,
   "id": "f623dacd",
   "metadata": {},
   "outputs": [
    {
     "name": "stdout",
     "output_type": "stream",
     "text": [
      "Word-length dictionary has been written to output.txt.\n"
     ]
    }
   ],
   "source": [
    "try:\n",
    "    # Open the input file for reading\n",
    "    with open(r'C:\\Users\\hp\\Desktop\\practice exercises\\Python-S1\\replace.txt','r') as input_file:\n",
    "        lines = input_file.readlines()\n",
    "\n",
    "    # Create a dictionary to store word lengths\n",
    "    word_length_dict = {}\n",
    "\n",
    "    # Process each line (word) in the input file\n",
    "    for line in lines:\n",
    "        word = line.strip()  # Remove leading/trailing whitespace\n",
    "        length = len(word)\n",
    "        word_length_dict[word] = length\n",
    "\n",
    "    # Open the output file for writing\n",
    "    with open(r\"C:\\Users\\hp\\Desktop\\practice exercises\\Python-S1\\new.txt\", 'w') as output_file:\n",
    "        # Write the word-length dictionary to the output file\n",
    "        for word, length in word_length_dict.items():\n",
    "            output_file.write(f'{word}: {length}\\n')\n",
    "\n",
    "    print(\"Word-length dictionary has been written to output.txt.\")\n",
    "\n",
    "except FileNotFoundError:\n",
    "    print(\"Input file not found.\")\n",
    "except Exception as e:\n",
    "    print(f\"An error occurred: {str(e)}\")\n"
   ]
  },
  {
   "cell_type": "markdown",
   "id": "b2ef6185",
   "metadata": {},
   "source": [
    "# 8. Assume that you are developing a student gradebook system for a school. The system should allow teachers to input student grades for various subjects, store the data in files, and provide students with the ability to view their grades."
   ]
  },
  {
   "cell_type": "code",
   "execution_count": 7,
   "id": "2a73847d",
   "metadata": {},
   "outputs": [
    {
     "name": "stdout",
     "output_type": "stream",
     "text": [
      "\n",
      "Options:\n",
      "1. Teacher: Input Grades\n",
      "2. Student: View Grades\n",
      "3. Exit\n",
      "Enter your choice: 1\n",
      "Enter student's name: Binus\n",
      "Enter the subject: maths\n",
      "Enter the grade: A\n",
      "Grade for Binus in maths has been recorded.\n",
      "\n",
      "Options:\n",
      "1. Teacher: Input Grades\n",
      "2. Student: View Grades\n",
      "3. Exit\n",
      "Enter your choice: 2\n",
      "Enter your name: Binus\n",
      "Enter the subject you want to view: maths\n",
      "Grades in maths for Binus:\n",
      "Binus: A\n",
      "\n",
      "\n",
      "Options:\n",
      "1. Teacher: Input Grades\n",
      "2. Student: View Grades\n",
      "3. Exit\n",
      "Enter your choice: Exit\n",
      "Invalid choice. Please select a valid option.\n",
      "\n",
      "Options:\n",
      "1. Teacher: Input Grades\n",
      "2. Student: View Grades\n",
      "3. Exit\n",
      "Enter your choice: 3\n"
     ]
    }
   ],
   "source": [
    "def teacher_input_grades():\n",
    "    try:\n",
    "        student_name = input(\"Enter student's name: \")\n",
    "        subject = input(\"Enter the subject: \")\n",
    "        grade = input(\"Enter the grade: \")\n",
    "\n",
    "        filename = f\"{subject}.txt\"\n",
    "        with open(filename, 'a') as file:\n",
    "            file.write(f\"{student_name}: {grade}\\n\")\n",
    "        print(f\"Grade for {student_name} in {subject} has been recorded.\")\n",
    "\n",
    "    except (FileNotFoundError, PermissionError) as e:\n",
    "        print(f\"File operation error: {str(e)}\")\n",
    "    except Exception as e:\n",
    "        print(f\"An error occurred: {str(e)}\")\n",
    "\n",
    "def student_view_grades():\n",
    "    try:\n",
    "        student_name = input(\"Enter your name: \")\n",
    "        subject = input(\"Enter the subject you want to view: \")\n",
    "\n",
    "        filename = f\"{subject}.txt\"\n",
    "        with open(filename, 'r') as file:\n",
    "            grades = file.read()\n",
    "            print(f\"Grades in {subject} for {student_name}:\\n{grades}\")\n",
    "\n",
    "    except FileNotFoundError:\n",
    "        print(f\"Grades for {student_name} in {subject} not found.\")\n",
    "    except PermissionError as e:\n",
    "        print(f\"Permission error: {str(e)}\")\n",
    "    except Exception as e:\n",
    "        print(f\"An error occurred: {str(e)}\")\n",
    "\n",
    "if __name__ == \"__main__\":\n",
    "    while True:\n",
    "        print(\"\\nOptions:\")\n",
    "        print(\"1. Teacher: Input Grades\")\n",
    "        print(\"2. Student: View Grades\")\n",
    "        print(\"3. Exit\")\n",
    "        choice = input(\"Enter your choice: \")\n",
    "\n",
    "        if choice == '1':\n",
    "            teacher_input_grades()\n",
    "        elif choice == '2':\n",
    "            student_view_grades()\n",
    "        elif choice == '3':\n",
    "            break\n",
    "        else:\n",
    "            print(\"Invalid choice. Please select a valid option.\")\n"
   ]
  }
 ],
 "metadata": {
  "kernelspec": {
   "display_name": "Python 3 (ipykernel)",
   "language": "python",
   "name": "python3"
  },
  "language_info": {
   "codemirror_mode": {
    "name": "ipython",
    "version": 3
   },
   "file_extension": ".py",
   "mimetype": "text/x-python",
   "name": "python",
   "nbconvert_exporter": "python",
   "pygments_lexer": "ipython3",
   "version": "3.9.12"
  }
 },
 "nbformat": 4,
 "nbformat_minor": 5
}
