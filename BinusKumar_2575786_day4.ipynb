{
 "cells": [
  {
   "cell_type": "markdown",
   "id": "64c32c13",
   "metadata": {},
   "source": [
    "# 1. Write a python program with Exception handling to input marks for five subjects Physics,Chemistry, Biology, Mathematics, and Computer. Calculate the percentage and grade accordingto the following:\n"
   ]
  },
  {
   "cell_type": "code",
   "execution_count": null,
   "id": "fdc7a606",
   "metadata": {},
   "outputs": [],
   "source": [
    "try:\n",
    "    physics = float(input(\"Enter Physics marks: \"))\n",
    "    chemistry = float(input(\"Enter Chemistry marks: \"))\n",
    "    biology = float(input(\"Enter Biology marks: \"))\n",
    "    mathematics = float(input(\"Enter Mathematics marks: \"))\n",
    "    computer = float(input(\"Enter Computer marks: \"))\n",
    "    if (\n",
    "        0 <= physics <= 100\n",
    "        and 0 <= chemistry <= 100\n",
    "        and 0 <= biology <= 100\n",
    "        and 0 <= mathematics <= 100\n",
    "        and 0 <= computer <= 100\n",
    "    ):\n",
    "        \n",
    "        total_marks = physics + chemistry + biology + mathematics + computer\n",
    "        percentage = (total_marks / 500) * 100\n",
    "        \n",
    "        if percentage >= 90:\n",
    "            grade = \"A\"\n",
    "        elif percentage >= 80:\n",
    "            grade = \"B\"\n",
    "        elif percentage >= 70:\n",
    "            grade = \"C\"\n",
    "        elif percentage >= 60:\n",
    "            grade = \"D\"\n",
    "        elif percentage >= 40:\n",
    "            grade = \"E\"\n",
    "        else:\n",
    "            grade = \"F\"\n",
    "\n",
    "        print(f\"Percentage: {percentage:.2f}%\")\n",
    "        print(f\"Grade: {grade}\")\n",
    "\n",
    "    else:\n",
    "        print(\"Invalid input! Marks should be in the range of 0 to 100.\")\n",
    "\n",
    "except ValueError:\n",
    "    print(\"Invalid input! Please enter valid numeric values for marks.\")\n",
    "except Exception as e:\n",
    "    print(f\"An error occurred: {str(e)}\")\n"
   ]
  },
  {
   "cell_type": "markdown",
   "id": "cbafd4bd",
   "metadata": {},
   "source": [
    "# 2. Write a python program with Exception handling to input electricity unit charges and calculate the total electricity bill according to the given condition:"
   ]
  },
  {
   "cell_type": "code",
   "execution_count": null,
   "id": "2d5ba61d",
   "metadata": {},
   "outputs": [],
   "source": [
    "try:\n",
    "    units = float(input(\"Enter the electricity units consumed: \"))\n",
    "\n",
    "    if units >= 0:\n",
    "        if units <= 50:\n",
    "            total_bill = units * 0.50\n",
    "        elif units <= 150:\n",
    "            total_bill = (50 * 0.50) + ((units - 50) * 0.75)\n",
    "        elif units <= 250:\n",
    "            total_bill = (50 * 0.50) + (100 * 0.75) + ((units - 150) * 1.20)\n",
    "        else:\n",
    "            total_bill = (50 * 0.50) + (100 * 0.75) + (100 * 1.20) + ((units - 250) * 1.50)\n",
    "\n",
    "        total_bill_with_surcharge = total_bill + (0.20 * total_bill)\n",
    "\n",
    "        print(f\"Total electricity bill (including 20% surcharge): Rs. {total_bill_with_surcharge:.2f}\")\n",
    "\n",
    "    else:\n",
    "        print(\"Invalid input! Units should be a positive number.\")\n",
    "\n",
    "except ValueError:\n",
    "    print(\"Invalid input! Please enter a valid numeric value for units.\")\n",
    "except Exception as e:\n",
    "    print(f\"An error occurred: {str(e)}\")\n"
   ]
  },
  {
   "cell_type": "markdown",
   "id": "29dd448a",
   "metadata": {},
   "source": [
    "# 3. Write a python program with Exception handling to input the week number and print the weekday."
   ]
  },
  {
   "cell_type": "code",
   "execution_count": 5,
   "id": "db84d287",
   "metadata": {},
   "outputs": [
    {
     "name": "stdout",
     "output_type": "stream",
     "text": [
      "Enter the week number (1-7): 3\n",
      "Weekday for week number 3 is Wednesday\n"
     ]
    }
   ],
   "source": [
    "try:\n",
    "    week_number = int(input(\"Enter the week number (1-7): \"))\n",
    "\n",
    "    if 1 <= week_number <= 7:\n",
    "        weekdays = [\"Monday\", \"Tuesday\", \"Wednesday\", \"Thursday\", \"Friday\", \"Saturday\", \"Sunday\"]\n",
    "\n",
    "        weekday = weekdays[week_number - 1]\n",
    "        print(f\"Weekday for week number {week_number} is {weekday}\")\n",
    "    else:\n",
    "        print(\"Invalid input! Week number should be between 1 and 7.\")\n",
    "\n",
    "except ValueError:\n",
    "    print(\"Invalid input! Please enter a valid numeric value for the week number.\")\n",
    "except Exception as e:\n",
    "    print(f\"An error occurred: {str(e)}\")\n"
   ]
  },
  {
   "cell_type": "markdown",
   "id": "e0ff1969",
   "metadata": {},
   "source": [
    "# 4. Write a Python program to implement word count using command line arguments."
   ]
  },
  {
   "cell_type": "code",
   "execution_count": 20,
   "id": "9cfcb64f",
   "metadata": {},
   "outputs": [
    {
     "name": "stdout",
     "output_type": "stream",
     "text": [
      "a : 3\n",
      "abc : 1\n",
      "active : 1\n",
      "amoeba : 1\n",
      "and : 1\n",
      "announced : 1\n",
      "as : 4\n",
      "at : 1\n",
      "began : 1\n",
      "bestowed : 1\n",
      "by : 2\n",
      "capable : 1\n",
      "centrum : 1\n",
      "chief : 1\n",
      "commitment : 1\n",
      "community : 1\n",
      "conceived : 1\n",
      "core : 1\n",
      "council : 1\n",
      "december : 1\n",
      "developers : 1\n",
      "dictator : 1\n",
      "elected : 1\n",
      "exception : 1\n",
      "for : 2\n",
      "from : 1\n",
      "guido : 1\n",
      "handling : 1\n",
      "he : 1\n",
      "him : 1\n",
      "his : 3\n",
      "implementation : 1\n",
      "in : 4\n",
      "informatica : 1\n",
      "inspired : 1\n",
      "interfacing : 1\n",
      "its : 1\n",
      "january : 1\n",
      "july : 1\n",
      "late : 1\n",
      "lead : 2\n",
      "netherlands : 1\n",
      "of : 1\n",
      "operating : 1\n",
      "programming : 1\n",
      "python : 3\n",
      "reflect : 1\n",
      "responsibilities : 1\n",
      "responsibility : 1\n",
      "rossum : 2\n",
      "shouldered : 1\n",
      "sole : 1\n",
      "steering : 1\n",
      "successor : 1\n",
      "the : 9\n",
      "title : 1\n",
      "to : 3\n",
      "until : 1\n",
      "upon : 1\n",
      "van : 2\n",
      "was : 2\n",
      "when : 1\n",
      "which : 1\n",
      "wiskunde : 1\n",
      "with : 1\n",
      "Usage: python wordcount.py <filename>\n"
     ]
    }
   ],
   "source": [
    "#wordcount.py\n",
    "\n",
    "def count_words(file_name):\n",
    "    with open(file_name,\"r\") as a:\n",
    "        a_data=a.read()\n",
    "        a_list=a_data.lower().split()\n",
    "        a_list.sort()\n",
    "        frequent_words={}\n",
    "        for i in a_list :\n",
    "            if i.isalpha():\n",
    "                count=a_list.count(i)\n",
    "                frequent_words[i]=count\n",
    "\n",
    "    for x in frequent_words:\n",
    "        print(x,\":\",frequent_words[x])\n",
    "file_name=\"apple.txt\"\n",
    "count_words(file_name)\n",
    "\n",
    "#command.py\n",
    "\n",
    "import sys\n",
    "import wordcount\n",
    "from wordcount import count_words\n",
    "if len(sys.argv) != 2:\n",
    "    print(\"Usage: python wordcount.py <filename>\")\n",
    "else:\n",
    "    filename = sys.argv[1]\n",
    "    word_count = count_words(filename)\n",
    "    if word_count:\n",
    "        for word, count in word_count.items():\n",
    "            print(f\"{word}: {count} occurrences\")\n",
    "#cli        \n",
    "python command.py apple.txt"
   ]
  },
  {
   "cell_type": "markdown",
   "id": "3d251de9",
   "metadata": {},
   "source": [
    "# 5.write a python program for find the most frequent words in a text read from a file."
   ]
  },
  {
   "cell_type": "code",
   "execution_count": 21,
   "id": "dac40fa2",
   "metadata": {},
   "outputs": [
    {
     "name": "stdout",
     "output_type": "stream",
     "text": [
      "Most repeated word: the\n",
      "Frequency: 9\n"
     ]
    }
   ],
   "source": [
    "file = open(\"apple.txt\",\"r\")\n",
    "frequent_word = \"\"\n",
    "frequency = 0\n",
    "words = []\n",
    "\n",
    "for line in file:\n",
    "    line_word = line.lower().replace(',','').replace('.','').split(\" \");\n",
    "\n",
    "    for w in line_word:\n",
    "        words.append(w);\n",
    "\n",
    "for i in range(0, len(words)):\n",
    "    count = 1;\n",
    "    for j in range(i+1, len(words)):\n",
    "        if(words[i] == words[j]):\n",
    "            count = count + 1;\n",
    "    if(count > frequency):\n",
    "        frequency = count;\n",
    "        frequent_word = words[i];\n",
    "\n",
    "print(\"Most repeated word: \" + frequent_word)\n",
    "print(\"Frequency: \" + str(frequency))\n",
    "file.close();\n",
    "\n"
   ]
  },
  {
   "cell_type": "markdown",
   "id": "1eeabb9f",
   "metadata": {},
   "source": [
    "# 6.File Processing with Command-Line Arguments Scenario You Are developing a command-line utility that processes text files. Users can specify input and output files path as command-line arguments.Your program should handle exceptions gracefully."
   ]
  },
  {
   "cell_type": "code",
   "execution_count": null,
   "id": "22e9f593",
   "metadata": {},
   "outputs": [],
   "source": [
    "import sys\n",
    "\n",
    "def cla_files(input_file_path, output_file_path):\n",
    "    try:\n",
    "        \n",
    "        if not input_file_path or not output_file_path:\n",
    "            raise ValueError(\"Enter valid number of files.\")\n",
    "        \n",
    "   \n",
    "        try:\n",
    "            with open(input_file_path, 'r') as input_file:\n",
    "                 data = input_file.read()\n",
    "        except FileNotFoundError:\n",
    "            raise FileNotFoundError(\"No such file or directory\")\n",
    "             processed_data = data.upper()  \n",
    "        \n",
    "      \n",
    "        with open(output_file_path, 'w') as output_file:\n",
    "            output_file.write(processed_data)\n",
    "        \n",
    "        print(\"cla_File processing completed\")\n",
    "\n",
    "    except Exception as e:\n",
    "        print(f\"Error: {e}\")\n",
    "        sys.exit(1)  \n",
    "\n",
    "\n",
    "    if len(sys.argv) != 3:\n",
    "        print(\"Usage: python program.py <input_file_path> <output_file_path>\")\n",
    "        sys.exit(1)\n",
    "\n",
    "    input_file_path = sys.argv[1]\n",
    "    output_file_path = sys.argv[2]\n",
    "   \n",
    "\n",
    "    cla_files(input_file_path, output_file_path)\n"
   ]
  }
 ],
 "metadata": {
  "kernelspec": {
   "display_name": "Python 3 (ipykernel)",
   "language": "python",
   "name": "python3"
  },
  "language_info": {
   "codemirror_mode": {
    "name": "ipython",
    "version": 3
   },
   "file_extension": ".py",
   "mimetype": "text/x-python",
   "name": "python",
   "nbconvert_exporter": "python",
   "pygments_lexer": "ipython3",
   "version": "3.9.12"
  }
 },
 "nbformat": 4,
 "nbformat_minor": 5
}
