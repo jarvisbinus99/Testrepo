{
 "cells": [
  {
   "cell_type": "markdown",
   "id": "32a36e6f",
   "metadata": {},
   "source": [
    "# 1.Manupulating using a list.\n",
    " i) to add new elements to the end of the list.\n",
    " ii)to reverse elements in the list.\n",
    " iii)to display the same list of elements multiple times\n",
    " iv)to concatinate two lists.\n",
    " v)to sort the elements in the list in ascending order."
   ]
  },
  {
   "cell_type": "code",
   "execution_count": 102,
   "id": "9ad105a0",
   "metadata": {},
   "outputs": [
    {
     "data": {
      "text/plain": [
       "[1, 2, 3, 4, 'lucy', 'debrah', ['america', 1], 1, 2, 3, 4]"
      ]
     },
     "execution_count": 102,
     "metadata": {},
     "output_type": "execute_result"
    }
   ],
   "source": [
    "#i) to add new elements to the end of the list\n",
    "l=[1,2,3,4,\"lucy\",\"debrah\"]\n",
    "l.append([\"america\",1]) #using append\n",
    "l.extend([1,2,3,4]) #using extend which adds the idividual elements of the iterables to the end of the list.\n",
    "l\n"
   ]
  },
  {
   "cell_type": "code",
   "execution_count": 103,
   "id": "2c61c9e8",
   "metadata": {},
   "outputs": [
    {
     "name": "stdout",
     "output_type": "stream",
     "text": [
      "the reversed list:  [4, 3, 2, 1, ['america', 1], 'debrah', 'lucy', 4, 3, 2, 1]\n",
      "the reversed list:  [4, 3, 2, 1, ['america', 1], 'debrah', 'lucy', 4, 3, 2, 1]\n"
     ]
    }
   ],
   "source": [
    "#ii)to reverse elements in the list.\n",
    "print(\"the reversed list: \",l[::-1]) #using slicing\n",
    "l.reverse()\n",
    "print(\"the reversed list: \",l) #using reverse\n",
    "\n"
   ]
  },
  {
   "cell_type": "code",
   "execution_count": 104,
   "id": "19c3292c",
   "metadata": {},
   "outputs": [
    {
     "name": "stdout",
     "output_type": "stream",
     "text": [
      "[4, 3, 2, 1, ['america', 1], 'debrah', 'lucy', 4, 3, 2, 1, 4, 3, 2, 1, ['america', 1], 'debrah', 'lucy', 4, 3, 2, 1, 4, 3, 2, 1, ['america', 1], 'debrah', 'lucy', 4, 3, 2, 1]\n"
     ]
    }
   ],
   "source": [
    "#iii)to display the same list of elements multiple times\n",
    "print(l*3)"
   ]
  },
  {
   "cell_type": "code",
   "execution_count": 105,
   "id": "5ba9b29a",
   "metadata": {},
   "outputs": [
    {
     "data": {
      "text/plain": [
       "[7, 8, 9, 10, 1, 2, 0, 9, 8, 7]"
      ]
     },
     "execution_count": 105,
     "metadata": {},
     "output_type": "execute_result"
    }
   ],
   "source": [
    "#iv)to concatinate two lists\n",
    "l1=[1,2,0,9,8,7]\n",
    "l2=[7,8,9,10]\n",
    "l2+l1\n"
   ]
  },
  {
   "cell_type": "code",
   "execution_count": 106,
   "id": "d04fb726",
   "metadata": {},
   "outputs": [
    {
     "data": {
      "text/plain": [
       "[0, 1, 2, 7, 8, 9]"
      ]
     },
     "execution_count": 106,
     "metadata": {},
     "output_type": "execute_result"
    }
   ],
   "source": [
    "#v)to sort the elements in the list in ascending order.\n",
    "l1.sort()\n",
    "l1"
   ]
  },
  {
   "cell_type": "markdown",
   "id": "23cb93b8",
   "metadata": {},
   "source": [
    "# 2.Manupulating using a tuple.\n",
    " i) to add new elements to the end of the tuple.\n",
    " ii)to reverse elements in the tuple.\n",
    " iii)to display the same tuple of elements multiple times\n",
    " iv)to concatinate two tuples.\n",
    " v)to sort the elements in the tuple in ascending order."
   ]
  },
  {
   "cell_type": "code",
   "execution_count": 107,
   "id": "47f3cfe2",
   "metadata": {},
   "outputs": [
    {
     "data": {
      "text/plain": [
       "(1, 2, 3, 4, 5, 8, 9)"
      ]
     },
     "execution_count": 107,
     "metadata": {},
     "output_type": "execute_result"
    }
   ],
   "source": [
    "#i) to add new elements to the end of the tuple. \n",
    "t=(1,2,3,4,5)\n",
    "t=t+(8,9)\n",
    "t"
   ]
  },
  {
   "cell_type": "code",
   "execution_count": 108,
   "id": "eeeb2be4",
   "metadata": {},
   "outputs": [
    {
     "name": "stdout",
     "output_type": "stream",
     "text": [
      "(9, 8, 5, 4, 3, 2, 1)\n"
     ]
    }
   ],
   "source": [
    "#ii)to reverse elements in the tuple.\n",
    "print(t[::-1]) #using slicing"
   ]
  },
  {
   "cell_type": "code",
   "execution_count": 109,
   "id": "3e24acfc",
   "metadata": {},
   "outputs": [
    {
     "data": {
      "text/plain": [
       "(1, 2, 3, 4, 5, 8, 9, 1, 2, 3, 4, 5, 8, 9, 1, 2, 3, 4, 5, 8, 9)"
      ]
     },
     "execution_count": 109,
     "metadata": {},
     "output_type": "execute_result"
    }
   ],
   "source": [
    "#iii)to display the same tuple of elements multiple times \n",
    "t*3"
   ]
  },
  {
   "cell_type": "code",
   "execution_count": 110,
   "id": "c2d1ae50",
   "metadata": {},
   "outputs": [
    {
     "data": {
      "text/plain": [
       "(1, 2, 3, 4, 5, 7, 8, 9, 10, 11, 12)"
      ]
     },
     "execution_count": 110,
     "metadata": {},
     "output_type": "execute_result"
    }
   ],
   "source": [
    "#iv)to concatinate two tuples.\n",
    "t4=(1,2,3,4,5)\n",
    "t6=(7,8,9,10,11,12)\n",
    "t4+t6"
   ]
  },
  {
   "cell_type": "code",
   "execution_count": 111,
   "id": "91b5e748",
   "metadata": {},
   "outputs": [
    {
     "data": {
      "text/plain": [
       "(4, 10, 11, 11, 54, 60)"
      ]
     },
     "execution_count": 111,
     "metadata": {},
     "output_type": "execute_result"
    }
   ],
   "source": [
    "#v)to sort the elements in the tuple in ascending order.\n",
    "t7=(11,10,4,60,54,11)\n",
    "tuple(sorted(t7))"
   ]
  },
  {
   "cell_type": "markdown",
   "id": "04f4c34e",
   "metadata": {},
   "source": [
    "# 3.write a python program to implement the following using list.\n",
    "i)create a list with integers(minimum 10 numbers).\n",
    "ii)how to display last number in the list.\n",
    "iii)command for displaying the list values from [0:4]\n",
    "iv)command for displaying in the list[2:]\n",
    "v)command for displaying values in the list[:6]"
   ]
  },
  {
   "cell_type": "code",
   "execution_count": 112,
   "id": "9eb7549e",
   "metadata": {},
   "outputs": [],
   "source": [
    "#i)create a list with integers(minimum 10 numbers)\n",
    "l=[1,2,3,4,5,6,7,8,9,10]"
   ]
  },
  {
   "cell_type": "code",
   "execution_count": 113,
   "id": "9bf824e0",
   "metadata": {},
   "outputs": [
    {
     "name": "stdout",
     "output_type": "stream",
     "text": [
      "[1, 2, 3, 4, 5, 6, 7, 8, 9, 10]\n"
     ]
    }
   ],
   "source": [
    "#ii)how to display last number in the list.\n",
    "print(l)"
   ]
  },
  {
   "cell_type": "code",
   "execution_count": 114,
   "id": "aa678e1f",
   "metadata": {},
   "outputs": [
    {
     "name": "stdout",
     "output_type": "stream",
     "text": [
      "[1, 2, 3, 4]\n"
     ]
    }
   ],
   "source": [
    "#iii)command for displaying the list values from [0:4]\n",
    "print(l[0:4])"
   ]
  },
  {
   "cell_type": "code",
   "execution_count": 115,
   "id": "d5e149b4",
   "metadata": {},
   "outputs": [
    {
     "name": "stdout",
     "output_type": "stream",
     "text": [
      "[3, 4, 5, 6, 7, 8, 9, 10]\n"
     ]
    }
   ],
   "source": [
    "#iv)command for displaying in the list[2:]\n",
    "print(l[2:])"
   ]
  },
  {
   "cell_type": "code",
   "execution_count": 116,
   "id": "785f2081",
   "metadata": {},
   "outputs": [
    {
     "name": "stdout",
     "output_type": "stream",
     "text": [
      "[1, 2, 3, 4, 5, 6]\n"
     ]
    }
   ],
   "source": [
    "#v)command for displaying values in the list[:6]\n",
    "print(l[:6])"
   ]
  },
  {
   "cell_type": "markdown",
   "id": "a9fbe913",
   "metadata": {},
   "source": [
    "# 4.write a program:tuple1=[10,50,20,40,30]\n",
    "    i)to display the elements 10 and 50 from the tuple1\n",
    "    ii)to display the length of tuple1.\n",
    "    iii)to find the minimum element from tuple1.\n",
    "    iv)to add all elements in the tuple1.\n",
    "    v)to display the same tuple1 multiple times."
   ]
  },
  {
   "cell_type": "code",
   "execution_count": 117,
   "id": "6cc7d97b",
   "metadata": {},
   "outputs": [
    {
     "name": "stdout",
     "output_type": "stream",
     "text": [
      "[10, 50]\n"
     ]
    }
   ],
   "source": [
    "#i)to display the elements 10 and 50 from the tuple1\n",
    "tuple1=[10,50,20,40,30]\n",
    "print(tuple1[0:2])"
   ]
  },
  {
   "cell_type": "code",
   "execution_count": 118,
   "id": "e29da9f9",
   "metadata": {},
   "outputs": [
    {
     "name": "stdout",
     "output_type": "stream",
     "text": [
      "5\n"
     ]
    }
   ],
   "source": [
    "#ii)to display the length of tuple1.\n",
    "print(len(tuple1))"
   ]
  },
  {
   "cell_type": "code",
   "execution_count": 119,
   "id": "7c56b4b6",
   "metadata": {},
   "outputs": [
    {
     "name": "stdout",
     "output_type": "stream",
     "text": [
      "10\n"
     ]
    }
   ],
   "source": [
    "#iii)to find the minimum element from tuple1.\n",
    "print(min(tuple1))"
   ]
  },
  {
   "cell_type": "code",
   "execution_count": 120,
   "id": "6c95521e",
   "metadata": {},
   "outputs": [
    {
     "name": "stdout",
     "output_type": "stream",
     "text": [
      "150\n"
     ]
    }
   ],
   "source": [
    "#iv)to add all elements in the tuple1.\n",
    "print(sum(tuple1))"
   ]
  },
  {
   "cell_type": "code",
   "execution_count": 121,
   "id": "a0ab0968",
   "metadata": {},
   "outputs": [
    {
     "name": "stdout",
     "output_type": "stream",
     "text": [
      "(10, 50, 20, 40, 30)\n",
      "(10, 50, 20, 40, 30)\n",
      "(10, 50, 20, 40, 30)\n"
     ]
    }
   ],
   "source": [
    "#v)to display the same tuple1 multiple times.\n",
    "for i in range(3):\n",
    "    print(tuple(tuple1))"
   ]
  },
  {
   "cell_type": "markdown",
   "id": "43474945",
   "metadata": {},
   "source": [
    "# 5.write a python program:\n",
    "    i)to calculate the length of the string.\n",
    "    ii)to reverse the words in a string.\n",
    "    iii)to display the same string multiple times.\n",
    "    iv)to concatinate two strings\n",
    "    v)str1=\"south india\",using string slicing to display \"india\""
   ]
  },
  {
   "cell_type": "code",
   "execution_count": 122,
   "id": "fec0cd7c",
   "metadata": {},
   "outputs": [
    {
     "data": {
      "text/plain": [
       "11"
      ]
     },
     "execution_count": 122,
     "metadata": {},
     "output_type": "execute_result"
    }
   ],
   "source": [
    "#i)to calculate the length of the string.\n",
    "str1=\"south india\"\n",
    "len(str1)"
   ]
  },
  {
   "cell_type": "code",
   "execution_count": 123,
   "id": "484d6558",
   "metadata": {},
   "outputs": [
    {
     "data": {
      "text/plain": [
       "'aidni htuos'"
      ]
     },
     "execution_count": 123,
     "metadata": {},
     "output_type": "execute_result"
    }
   ],
   "source": [
    " #ii)to reverse the words in a string.\n",
    "''.join(reversed(str1))"
   ]
  },
  {
   "cell_type": "code",
   "execution_count": 124,
   "id": "0eb9b7cb",
   "metadata": {},
   "outputs": [
    {
     "data": {
      "text/plain": [
       "'south indiasouth indiasouth india'"
      ]
     },
     "execution_count": 124,
     "metadata": {},
     "output_type": "execute_result"
    }
   ],
   "source": [
    "#iii)to display the same string multiple times.\n",
    "str1*3"
   ]
  },
  {
   "cell_type": "code",
   "execution_count": 125,
   "id": "649a9893",
   "metadata": {},
   "outputs": [
    {
     "data": {
      "text/plain": [
       "'south india north india'"
      ]
     },
     "execution_count": 125,
     "metadata": {},
     "output_type": "execute_result"
    }
   ],
   "source": [
    "# iv)to concatinate two strings\n",
    "str2=\"north india\"\n",
    "str1+' '+str2"
   ]
  },
  {
   "cell_type": "code",
   "execution_count": 126,
   "id": "0c9d7eb5",
   "metadata": {},
   "outputs": [
    {
     "name": "stdout",
     "output_type": "stream",
     "text": [
      "india\n"
     ]
    }
   ],
   "source": [
    "#v)str1=\"south india\",using string slicing to display \"india\"\n",
    "print(str1.split()[1])"
   ]
  },
  {
   "cell_type": "markdown",
   "id": "9204b60f",
   "metadata": {},
   "source": [
    "# 6.preform the following \n",
    "i)creating a dictionary.\n",
    "ii)accessing values and keys in the dictionary.\n",
    "iii)updating the dictionary using a function.\n",
    "iv)clear and delete the dictionary values"
   ]
  },
  {
   "cell_type": "code",
   "execution_count": 127,
   "id": "91adfd4c",
   "metadata": {},
   "outputs": [],
   "source": [
    "#i)creating a dictionary.\n",
    "dict={\"fname\":\"binus\",\"lname\":\"kumar\",\"age\":22}"
   ]
  },
  {
   "cell_type": "code",
   "execution_count": 128,
   "id": "588c05fa",
   "metadata": {},
   "outputs": [
    {
     "name": "stdout",
     "output_type": "stream",
     "text": [
      "fname binus\n",
      "lname kumar\n",
      "age 22\n"
     ]
    }
   ],
   "source": [
    "#ii)accessing values and keys in the dictionary.\n",
    "for i in dict:\n",
    "    print(i,dict[i])"
   ]
  },
  {
   "cell_type": "code",
   "execution_count": 129,
   "id": "f033441d",
   "metadata": {},
   "outputs": [
    {
     "name": "stdout",
     "output_type": "stream",
     "text": [
      "{'fname': 'binus', 'lname': 'kumar', 'age': 22, 'city': 'jodhpur'}\n"
     ]
    }
   ],
   "source": [
    "#iii)updating the dictionary using a function.\n",
    "dict.update(city=\"jodhpur\")\n",
    "print(dict)"
   ]
  },
  {
   "cell_type": "code",
   "execution_count": 130,
   "id": "d7b98dbb",
   "metadata": {},
   "outputs": [],
   "source": [
    "#iv)clear and delete the dictionary values\n",
    "dict.clear()"
   ]
  },
  {
   "cell_type": "markdown",
   "id": "20f02905",
   "metadata": {},
   "source": [
    "# 7.python program to insert a number to any position in a list"
   ]
  },
  {
   "cell_type": "code",
   "execution_count": 131,
   "id": "2f94f47e",
   "metadata": {},
   "outputs": [
    {
     "name": "stdout",
     "output_type": "stream",
     "text": [
      "input the postion: \t5\n",
      "input the number you want to insert10\n",
      "[1, 2, 3, 4, 5, 10, 6, 7]\n"
     ]
    }
   ],
   "source": [
    "n=int(input(\"input the postion: \\t\"))\n",
    "n2=int(input(\"input the number you want to insert\"))\n",
    "l=[1,2,3,4,5,6,7,]\n",
    "l.insert(n,n2)\n",
    "print(l)"
   ]
  },
  {
   "cell_type": "markdown",
   "id": "a0af379f",
   "metadata": {},
   "source": [
    "# 8.python program to delete a element by index in a list."
   ]
  },
  {
   "cell_type": "code",
   "execution_count": 132,
   "id": "dc338fc7",
   "metadata": {},
   "outputs": [
    {
     "name": "stdout",
     "output_type": "stream",
     "text": [
      "input the postion: \t3\n",
      "[1, 2, 3, 5, 6, 7]\n"
     ]
    }
   ],
   "source": [
    "n=int(input(\"input the postion: \\t\"))\n",
    "l=[1,2,3,4,5,6,7,]\n",
    "l.pop(n)\n",
    "print(l)"
   ]
  },
  {
   "cell_type": "markdown",
   "id": "00fd3bc1",
   "metadata": {},
   "source": [
    "# 9.write a program to display a number from 1 to 100.\n"
   ]
  },
  {
   "cell_type": "code",
   "execution_count": 133,
   "id": "a91e1c2b",
   "metadata": {},
   "outputs": [
    {
     "data": {
      "text/plain": [
       "11"
      ]
     },
     "execution_count": 133,
     "metadata": {},
     "output_type": "execute_result"
    }
   ],
   "source": [
    "import random\n",
    "random.randint(1,100)"
   ]
  },
  {
   "cell_type": "markdown",
   "id": "7a6c37e1",
   "metadata": {},
   "source": [
    "# 10.write a python program to find the sum of all items in a tuple."
   ]
  },
  {
   "cell_type": "code",
   "execution_count": 134,
   "id": "9bd18c65",
   "metadata": {},
   "outputs": [
    {
     "data": {
      "text/plain": [
       "26"
      ]
     },
     "execution_count": 134,
     "metadata": {},
     "output_type": "execute_result"
    }
   ],
   "source": [
    "t=(1,2,2,4,5,6,6)\n",
    "sum(t)"
   ]
  },
  {
   "cell_type": "markdown",
   "id": "e59267ed",
   "metadata": {},
   "source": [
    "# 11.create a dictionary containing three lambda functions square,cube and square root."
   ]
  },
  {
   "cell_type": "code",
   "execution_count": 135,
   "id": "92697426",
   "metadata": {},
   "outputs": [
    {
     "name": "stdout",
     "output_type": "stream",
     "text": [
      "enter the number to be squared : 10\n",
      "enter the number to be cubed: 12\n",
      "enter the number whoes square root you want to find: 13\n",
      "1831.605551275464\n"
     ]
    }
   ],
   "source": [
    "# import math\n",
    "n1=int(input(\"enter the number to be squared : \"))\n",
    "n2=int(input(\"enter the number to be cubed: \"))\n",
    "n3=int(input(\"enter the number whoes square root you want to find: \"))\n",
    "dict={\"square\":lambda n:n*n,\"cube\":lambda n:n*n*n,\"squareroot\":lambda n:math.sqrt(n)}\n",
    "print(dict[\"square\"](n1)+dict[\"cube\"](n2)+dict[\"squareroot\"](n3))"
   ]
  },
  {
   "cell_type": "markdown",
   "id": "a64f8989",
   "metadata": {},
   "source": [
    "# 12.A list of words is given.Find the words from the list that have their second character in uppercase ."
   ]
  },
  {
   "cell_type": "code",
   "execution_count": 136,
   "id": "3b7c2818",
   "metadata": {},
   "outputs": [
    {
     "name": "stdout",
     "output_type": "stream",
     "text": [
      "['hOw', 'ARe', 'yOu']\n"
     ]
    }
   ],
   "source": [
    "ls=['hello','Dear','hOw','ARe','yOu']\n",
    "ls1=[]\n",
    "for i in ls:\n",
    "    if i[1].isupper():\n",
    "        ls1.append(i)  \n",
    "print(ls1)"
   ]
  },
  {
   "cell_type": "markdown",
   "id": "32233fb1",
   "metadata": {},
   "source": [
    "# 13.A dictionary of names and their weights on the earth is given.find out how much they will wheigh on moon.\n",
    "wmoon=(wearth*gmoon)/gearth\n",
    "weightonearth={\"john\":45,\"shelly\":65,\"marry\":35}\n",
    "gmoon=1.622\n",
    "gearth=9.81"
   ]
  },
  {
   "cell_type": "code",
   "execution_count": null,
   "id": "8b279cb1",
   "metadata": {},
   "outputs": [],
   "source": []
  },
  {
   "cell_type": "markdown",
   "id": "486ab500",
   "metadata": {},
   "source": [
    "# Control Structures."
   ]
  },
  {
   "cell_type": "markdown",
   "id": "f3ad9bc6",
   "metadata": {},
   "source": [
    "# 1.write a python program to find the first n prime numbers."
   ]
  },
  {
   "cell_type": "code",
   "execution_count": 137,
   "id": "bf72185c",
   "metadata": {},
   "outputs": [
    {
     "name": "stdout",
     "output_type": "stream",
     "text": [
      "enter the number till you want to find out: 2\n",
      "2\n"
     ]
    }
   ],
   "source": [
    "def isPrime(n):\n",
    "    if(n==1 or n==0):\n",
    "        return False\n",
    "    \n",
    "    for i in range(2,n):\n",
    "        if(n%i==0):\n",
    "            return False\n",
    "    return True\n",
    "\n",
    "N =int(input('enter the number till you want to find out: '));\n",
    "for i in range(1,N+1):\n",
    "    if(isPrime(i)):\n",
    "        print(i)\n"
   ]
  },
  {
   "cell_type": "markdown",
   "id": "70c0208b",
   "metadata": {},
   "source": [
    "# 2.write a program to calculate the salary of the employees."
   ]
  },
  {
   "cell_type": "code",
   "execution_count": 138,
   "id": "2406ce12",
   "metadata": {},
   "outputs": [
    {
     "name": "stdout",
     "output_type": "stream",
     "text": [
      "enter the basic_Salary50000\n",
      "enter the hra100000\n",
      "enter the ta100000\n",
      "enter the da10000\n",
      "gross_salary :  260000.0\n",
      "net_salary :  234000.0\n"
     ]
    }
   ],
   "source": [
    "basic_salary=float(input(\"enter the basic_Salary\"))\n",
    "hra=float(input(\"enter the hra\"))\n",
    "ta=float(input(\"enter the ta\"))\n",
    "da=float(input(\"enter the da\"))\n",
    "gross_salary=hra+ta+da+basic_salary\n",
    "net_salary=gross_salary-(0.1*gross_salary)\n",
    "print('gross_salary : ',gross_salary)\n",
    "print('net_salary : ',net_salary)"
   ]
  },
  {
   "cell_type": "markdown",
   "id": "1ff7122e",
   "metadata": {},
   "source": [
    "# 3.write a python program to search for a given string in a list."
   ]
  },
  {
   "cell_type": "code",
   "execution_count": 140,
   "id": "783b602b",
   "metadata": {},
   "outputs": [
    {
     "name": "stdout",
     "output_type": "stream",
     "text": [
      "enter the string you want to search in the list : john\n",
      "Found\n"
     ]
    }
   ],
   "source": [
    "str1=input(\"enter the string you want to search in the list : \")\n",
    "ls=['john','tom','nom','harry']\n",
    "for i in ls:\n",
    "    if i==str1:\n",
    "        print(\"Found\")"
   ]
  },
  {
   "cell_type": "markdown",
   "id": "f5754e7f",
   "metadata": {},
   "source": [
    "# 4.write a python function that accepts a string and calculates the number of uppercase and lowecase letters."
   ]
  },
  {
   "cell_type": "code",
   "execution_count": 144,
   "id": "93777adb",
   "metadata": {},
   "outputs": [
    {
     "name": "stdout",
     "output_type": "stream",
     "text": [
      "enter a string: THhhh\n",
      "uppercase letters :  5\n",
      "lower case letters:  0\n"
     ]
    }
   ],
   "source": [
    "str1=input(\"enter a string: \") #dout\n",
    "def func(str1):\n",
    "    l1=len(list(filter(lambda n:n.isupper,str1)))\n",
    "    print(\"uppercase letters : \",l1)\n",
    "    print(\"lower case letters: \",len(str1)-l1)\n",
    "    \n",
    "func(str1)"
   ]
  },
  {
   "cell_type": "markdown",
   "id": "1925f4e7",
   "metadata": {},
   "source": [
    "# 5.write a python program to display the sum of odd and even numbers between 12 and 37."
   ]
  },
  {
   "cell_type": "code",
   "execution_count": 145,
   "id": "2b4a8837",
   "metadata": {},
   "outputs": [
    {
     "name": "stdout",
     "output_type": "stream",
     "text": [
      "Sum of even numbers: 312\n",
      "Sum of odd numbers: 325\n"
     ]
    }
   ],
   "source": [
    "even= 0\n",
    "odd = 0\n",
    "for num in range(12, 38):\n",
    "    if num % 2 == 0: \n",
    "        even+= num\n",
    "    else:\n",
    "        odd+= num\n",
    "\n",
    "print(\"Sum of even numbers:\", even)\n",
    "print(\"Sum of odd numbers:\", odd)\n"
   ]
  },
  {
   "cell_type": "markdown",
   "id": "1750bef1",
   "metadata": {},
   "source": [
    "# 6.write a python program to print the table of any number."
   ]
  },
  {
   "cell_type": "code",
   "execution_count": 146,
   "id": "2460e571",
   "metadata": {},
   "outputs": [
    {
     "name": "stdout",
     "output_type": "stream",
     "text": [
      "Enter a number: 10\n",
      "10\n",
      "20\n",
      "30\n",
      "40\n",
      "50\n",
      "60\n",
      "70\n",
      "80\n",
      "90\n",
      "100\n"
     ]
    }
   ],
   "source": [
    "number = int(input(\"Enter a number: \"))\n",
    "for i in range(1, 11):\n",
    "    result = number * i\n",
    "    print(result)\n"
   ]
  },
  {
   "cell_type": "markdown",
   "id": "622a7a0d",
   "metadata": {},
   "source": [
    "# 7.write a python program to print the sum of 10 prime numbers."
   ]
  },
  {
   "cell_type": "code",
   "execution_count": 147,
   "id": "8c4e862c",
   "metadata": {},
   "outputs": [
    {
     "name": "stdout",
     "output_type": "stream",
     "text": [
      "enter the number till you want to find out: 11\n",
      "28\n"
     ]
    }
   ],
   "source": [
    "def isPrime(n):\n",
    "    if(n==1 or n==0):\n",
    "        return False\n",
    "    \n",
    "    for i in range(2,n):\n",
    "        if(n%i==0):\n",
    "            return False\n",
    "    return True\n",
    "l=[]\n",
    "N =int(input('enter the number till you want to find out: '));\n",
    "for i in range(1,N+1):\n",
    "    if(isPrime(i)):\n",
    "        l.append(i)\n",
    "print(sum(l))\n"
   ]
  },
  {
   "cell_type": "markdown",
   "id": "66ca848a",
   "metadata": {},
   "source": [
    "# 8.write a python program to implement arthimetic operations using nested if statement."
   ]
  },
  {
   "cell_type": "code",
   "execution_count": 148,
   "id": "f9ca02ea",
   "metadata": {},
   "outputs": [
    {
     "name": "stdout",
     "output_type": "stream",
     "text": [
      "Enter the first number: 12\n",
      "Enter the second number: 10\n",
      "Enter the operation (+, -, *, /): +\n",
      "22\n"
     ]
    }
   ],
   "source": [
    "num1 = int(input(\"Enter the first number: \"))\n",
    "num2 = int(input(\"Enter the second number: \"))\n",
    "op= input(\"Enter the operation (+, -, *, /): \")\n",
    "\n",
    "if op == '+':\n",
    "    result = num1 + num2\n",
    "elif op == '-':\n",
    "    result = num1 - num2\n",
    "elif op == '*':\n",
    "    result = num1 * num2\n",
    "elif op == '/':\n",
    "    if num2 != 0:\n",
    "        result = num1 / num2\n",
    "    else:\n",
    "        result = \"Error: Division by zero\"\n",
    "else:\n",
    "    result = \"Error: Invalid operation\"\n",
    "\n",
    "print(result)\n"
   ]
  },
  {
   "cell_type": "markdown",
   "id": "c5a93666",
   "metadata": {},
   "source": [
    "# 9.write a python program to take a temparature in celcius and convert it into fahrenheit."
   ]
  },
  {
   "cell_type": "code",
   "execution_count": 149,
   "id": "363604ba",
   "metadata": {},
   "outputs": [
    {
     "name": "stdout",
     "output_type": "stream",
     "text": [
      "Enter temperature in Celsius: 12\n",
      "53.6\n"
     ]
    }
   ],
   "source": [
    "celsius = float(input(\"Enter temperature in Celsius: \"))\n",
    "\n",
    "fahrenheit = (celsius * 9/5) + 32\n",
    "\n",
    "print(fahrenheit)\n"
   ]
  },
  {
   "cell_type": "markdown",
   "id": "7bdd8c47",
   "metadata": {},
   "source": [
    "# 10.write a python program to find minimum and maximum number in a list without using an inbuilt function."
   ]
  },
  {
   "cell_type": "code",
   "execution_count": 150,
   "id": "f1c4e644",
   "metadata": {},
   "outputs": [
    {
     "name": "stdout",
     "output_type": "stream",
     "text": [
      "min number 1\n",
      "max number 9\n"
     ]
    }
   ],
   "source": [
    "lst=[1,2,3,4,5,6,7,8,9]\n",
    "min1=lst[0]\n",
    "max1=lst[0]\n",
    "for num in lst:\n",
    "    if num < min1:\n",
    "         min1=num\n",
    "    if num > max1:\n",
    "        max1=num\n",
    "\n",
    "print(\"min number\",min1)\n",
    "print(\"max number\",max1)\n"
   ]
  },
  {
   "cell_type": "markdown",
   "id": "6060c737",
   "metadata": {},
   "source": [
    "# 11.Write a a python program to print the number of seconds in a month."
   ]
  },
  {
   "cell_type": "code",
   "execution_count": 151,
   "id": "0ee1096d",
   "metadata": {},
   "outputs": [
    {
     "name": "stdout",
     "output_type": "stream",
     "text": [
      "2592000\n"
     ]
    }
   ],
   "source": [
    "seconds = 60 *60 * 24 * 30\n",
    "print(seconds)"
   ]
  },
  {
   "cell_type": "markdown",
   "id": "8cbe9141",
   "metadata": {},
   "source": [
    "# 12.write a python program to print the number of seconds in a year."
   ]
  },
  {
   "cell_type": "code",
   "execution_count": 152,
   "id": "2005b705",
   "metadata": {},
   "outputs": [
    {
     "name": "stdout",
     "output_type": "stream",
     "text": [
      "Enter a year: 2012\n",
      "31622400\n"
     ]
    }
   ],
   "source": [
    "year = int(input(\"Enter a year: \"))\n",
    "if (year % 4 == 0 and year % 100 != 0) or (year % 400 == 0):\n",
    "    days = 366\n",
    "else:\n",
    "    days = 365 \n",
    "\n",
    "# Calculate the number of seconds in the given year\n",
    "seconds=days*24*60*60\n",
    "\n",
    "# Print the result\n",
    "print(seconds)\n"
   ]
  },
  {
   "cell_type": "markdown",
   "id": "de678695",
   "metadata": {},
   "source": [
    "# 13.A high speed train is travelling at an average speed of 150 mph,how long will it take the train travelling at this speed to travel at this speed to travel from london to glasgow which is 414 miles away.\n"
   ]
  },
  {
   "cell_type": "code",
   "execution_count": 153,
   "id": "bd9de1df",
   "metadata": {},
   "outputs": [
    {
     "name": "stdout",
     "output_type": "stream",
     "text": [
      "2.76\n"
     ]
    }
   ],
   "source": [
    "distance = 414\n",
    "speed = 150\n",
    "\n",
    "time= distance / speed\n",
    "print(time)"
   ]
  },
  {
   "cell_type": "markdown",
   "id": "20e65bd8",
   "metadata": {},
   "source": [
    "# 14.write a python program that defines a variable called days_in_each_school_year and assign 192 to the variable.the program should print out the total hours that you spend in school from year 7 to year 11,if you spend 6hrs in school_days_each_year=192"
   ]
  },
  {
   "cell_type": "code",
   "execution_count": 154,
   "id": "66d124be",
   "metadata": {},
   "outputs": [
    {
     "name": "stdout",
     "output_type": "stream",
     "text": [
      "4608\n"
     ]
    }
   ],
   "source": [
    "years =int(11-7)\n",
    "school_hours_each_year = 192\n",
    "hours_Each_year=6\n",
    "# Calculate the total hours spent in school from Year 7 to Year 11\n",
    "hours = years * school_hours_each_year*hours_Each_year\n",
    "\n",
    "# Print the result\n",
    "print(hours)\n"
   ]
  },
  {
   "cell_type": "markdown",
   "id": "44743c92",
   "metadata": {},
   "source": [
    "# 15.if the age of ram,sam and khan are entered through the keyboard,write a program to determine the eldest and youngest of the three."
   ]
  },
  {
   "cell_type": "code",
   "execution_count": 155,
   "id": "09e33519",
   "metadata": {},
   "outputs": [
    {
     "name": "stdout",
     "output_type": "stream",
     "text": [
      "Enter the age of Ram: 12\n",
      "Enter the age of Sam: 13\n",
      "Enter the age of Khan: 13\n",
      "The eldest is: Sam\n",
      "The youngest is: Ram\n"
     ]
    }
   ],
   "source": [
    "ram= int(input(\"Enter the age of Ram: \"))\n",
    "sam= int(input(\"Enter the age of Sam: \"))\n",
    "khan= int(input(\"Enter the age of Khan: \"))\n",
    "\n",
    "if ram>=sam and ram>=khan:\n",
    "    eldest = \"Ram\"\n",
    "elif sam>= ram and sam>=khan:\n",
    "    eldest = \"Sam\"\n",
    "else:\n",
    "    eldest = \"Khan\"\n",
    "\n",
    "if ram<=sam and ram<=khan:\n",
    "    youngest = \"Ram\"\n",
    "elif sam <= ram and sam <= khan:\n",
    "    youngest = \"Sam\"\n",
    "else:\n",
    "    youngest = \"Khan\"\n",
    "\n",
    "# Print the results\n",
    "print(f\"The eldest is: {eldest}\")\n",
    "print(f\"The youngest is: {youngest}\")\n"
   ]
  },
  {
   "cell_type": "markdown",
   "id": "240993cd",
   "metadata": {},
   "source": [
    "# 16.write a python program to rotate a list by right n times with and without the slicing technique."
   ]
  },
  {
   "cell_type": "code",
   "execution_count": null,
   "id": "a43bc69f",
   "metadata": {},
   "outputs": [],
   "source": []
  },
  {
   "cell_type": "markdown",
   "id": "b60d49b4",
   "metadata": {},
   "source": [
    "# 17.write a python program to print the given patterns."
   ]
  },
  {
   "cell_type": "code",
   "execution_count": 158,
   "id": "2bd761b2",
   "metadata": {},
   "outputs": [
    {
     "name": "stdout",
     "output_type": "stream",
     "text": [
      "enter the number of rows5\n",
      "1 \n",
      "1 1 \n",
      "1 2 1 \n",
      "1 3 3 1 \n",
      "1 4 6 4 1 \n"
     ]
    }
   ],
   "source": [
    "#pascals triangle\n",
    "rows =int(input(\"enter the number of rows\"))\n",
    "for i in range(rows):\n",
    "    num=1\n",
    "    for j in range(i + 1):\n",
    "        print(num, end=' ')\n",
    "        num= num * (i - j) // (j + 1)\n",
    "    print()\n"
   ]
  },
  {
   "cell_type": "code",
   "execution_count": 157,
   "id": "b6b0e7a7",
   "metadata": {},
   "outputs": [
    {
     "name": "stdout",
     "output_type": "stream",
     "text": [
      "enter the number of rows10\n",
      "*\n",
      "**\n",
      "***\n",
      "****\n",
      "*****\n",
      "******\n",
      "*******\n",
      "********\n",
      "*********\n",
      "**********\n"
     ]
    }
   ],
   "source": [
    "# star pattern\n",
    "rows =int(input(\"enter the number of rows\"))\n",
    "for i in range(1, rows + 1):\n",
    "    print('*' * i)\n"
   ]
  },
  {
   "cell_type": "code",
   "execution_count": 159,
   "id": "5ce87c19",
   "metadata": {},
   "outputs": [
    {
     "name": "stdout",
     "output_type": "stream",
     "text": [
      "enter the number of rows10\n",
      "         *\n",
      "        ***\n",
      "       *****\n",
      "      *******\n",
      "     *********\n",
      "    ***********\n",
      "   *************\n",
      "  ***************\n",
      " *****************\n",
      "*******************\n"
     ]
    }
   ],
   "source": [
    "rows =int(input(\"enter the number of rows\"))\n",
    "for i in range(1,rows + 1):\n",
    "    for j in range(rows - i):\n",
    "        print(\" \", end=\"\")\n",
    "    for k in range(2 * i - 1):\n",
    "        print(\"*\", end=\"\")\n",
    "    print()\n"
   ]
  },
  {
   "cell_type": "code",
   "execution_count": 160,
   "id": "12ebff88",
   "metadata": {},
   "outputs": [
    {
     "name": "stdout",
     "output_type": "stream",
     "text": [
      "p\n",
      "py\n",
      "pyt\n",
      "pyth\n",
      "pytho\n",
      "python\n"
     ]
    }
   ],
   "source": [
    "text = \"python\"\n",
    "for i in range(1, len(text) + 1):\n",
    "    print(text[:i])"
   ]
  },
  {
   "cell_type": "code",
   "execution_count": null,
   "id": "9b6a07c2",
   "metadata": {},
   "outputs": [],
   "source": []
  }
 ],
 "metadata": {
  "kernelspec": {
   "display_name": "Python 3 (ipykernel)",
   "language": "python",
   "name": "python3"
  },
  "language_info": {
   "codemirror_mode": {
    "name": "ipython",
    "version": 3
   },
   "file_extension": ".py",
   "mimetype": "text/x-python",
   "name": "python",
   "nbconvert_exporter": "python",
   "pygments_lexer": "ipython3",
   "version": "3.9.12"
  }
 },
 "nbformat": 4,
 "nbformat_minor": 5
}
